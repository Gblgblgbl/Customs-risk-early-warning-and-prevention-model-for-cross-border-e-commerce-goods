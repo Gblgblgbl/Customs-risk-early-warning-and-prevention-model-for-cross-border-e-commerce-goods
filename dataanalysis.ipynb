{
 "cells": [
  {
   "cell_type": "markdown",
   "id": "a110ac0f",
   "metadata": {
    "id": "a110ac0f"
   },
   "source": [
    "# Customs E-commerce Import Declaration Dataset Analysis(海关电商进口报关数据集分析)"
   ]
  },
  {
   "cell_type": "code",
   "execution_count": 53,
   "id": "9b56ae58",
   "metadata": {
    "executionInfo": {
     "elapsed": 247,
     "status": "ok",
     "timestamp": 1732982256724,
     "user": {
      "displayName": "章晗",
      "userId": "00029064363224532145"
     },
     "user_tz": -480
    },
    "id": "9b56ae58"
   },
   "outputs": [],
   "source": [
    "import pandas as pd\n",
    "import matplotlib.pyplot as plt\n",
    "import seaborn as sns\n",
    "import numpy as np\n",
    "sns.set_style(\"whitegrid\")\n",
    "sns.set_palette(\"Blues\")"
   ]
  },
  {
   "cell_type": "markdown",
   "id": "374d81a6",
   "metadata": {
    "id": "374d81a6"
   },
   "source": [
    "## Introduction 介绍\n",
    "The dataset is synthetic customs import declarations. Each row contains the information of each report on the imported goods and each column indicates the attributes of the import declaration form.(数据集为综合海关进口报关单，每行包含进口货物各报表信息，每列表示进口报关单的属性。)\n"
   ]
  },
  {
   "cell_type": "markdown",
   "id": "d77bcac1",
   "metadata": {
    "id": "d77bcac1"
   },
   "source": [
    "## Peek the Data(查看数据)"
   ]
  },
  {
   "cell_type": "markdown",
   "id": "EQGJliJVwzKj",
   "metadata": {
    "id": "EQGJliJVwzKj"
   },
   "source": [
    "(数据集来源于GUITHUB 中的数据库URL:Customs-Declaration-Datasets/data/df_syn_eng.csv at en · Seondong/Customs-Declaration-Datasets · GitHub，该数据集包含54,000 笔人工生成的交易，具有 22 个关键属性，并与 CTGAN 合成，同时保持相关属性。制造步骤将贸易统计中可能存在的可能的身份风险降至最低，并且发布的数据遵循与源数据类似的分布，以便可用于各种下游任务。我们对其中的数据进行了微处理，使其符合中国的条件与要求，我们在其中筛选了跨境电商相关的数据import type=15，并对其进行了分析)"
   ]
  },
  {
   "cell_type": "code",
   "execution_count": 54,
   "id": "b43a6a0a",
   "metadata": {
    "executionInfo": {
     "elapsed": 495,
     "status": "ok",
     "timestamp": 1732982259103,
     "user": {
      "displayName": "章晗",
      "userId": "00029064363224532145"
     },
     "user_tz": -480
    },
    "id": "b43a6a0a"
   },
   "outputs": [],
   "source": [
    "df = pd.read_excel(\"type15-data.xlsx\")"
   ]
  },
  {
   "cell_type": "code",
   "execution_count": 55,
   "id": "22823840",
   "metadata": {
    "colab": {
     "base_uri": "https://localhost:8080/",
     "height": 377
    },
    "executionInfo": {
     "elapsed": 212,
     "status": "ok",
     "timestamp": 1732982260058,
     "user": {
      "displayName": "章晗",
      "userId": "00029064363224532145"
     },
     "user_tz": -480
    },
    "id": "22823840",
    "outputId": "d698bbb2-0083-4dc7-efb4-78295456148f",
    "scrolled": false
   },
   "outputs": [
    {
     "data": {
      "text/html": [
       "<div>\n",
       "<style scoped>\n",
       "    .dataframe tbody tr th:only-of-type {\n",
       "        vertical-align: middle;\n",
       "    }\n",
       "\n",
       "    .dataframe tbody tr th {\n",
       "        vertical-align: top;\n",
       "    }\n",
       "\n",
       "    .dataframe thead th {\n",
       "        text-align: right;\n",
       "    }\n",
       "</style>\n",
       "<table border=\"1\" class=\"dataframe\">\n",
       "  <thead>\n",
       "    <tr style=\"text-align: right;\">\n",
       "      <th></th>\n",
       "      <th>Declaration ID</th>\n",
       "      <th>Date</th>\n",
       "      <th>Office ID</th>\n",
       "      <th>Process Type</th>\n",
       "      <th>Import Type</th>\n",
       "      <th>Import Use</th>\n",
       "      <th>Payment Type</th>\n",
       "      <th>Mode of Transport</th>\n",
       "      <th>Declarant ID</th>\n",
       "      <th>Importer ID</th>\n",
       "      <th>...</th>\n",
       "      <th>HS6 Code</th>\n",
       "      <th>Country of Departure</th>\n",
       "      <th>Country of Origin</th>\n",
       "      <th>Tax Rate</th>\n",
       "      <th>Tax Type</th>\n",
       "      <th>Country of Origin Indicator</th>\n",
       "      <th>Net Mass</th>\n",
       "      <th>Item Price</th>\n",
       "      <th>Fraud</th>\n",
       "      <th>Critical Fraud</th>\n",
       "    </tr>\n",
       "  </thead>\n",
       "  <tbody>\n",
       "    <tr>\n",
       "      <th>0</th>\n",
       "      <td>83743051</td>\n",
       "      <td>2020-01-02</td>\n",
       "      <td>40</td>\n",
       "      <td>B</td>\n",
       "      <td>15</td>\n",
       "      <td>21</td>\n",
       "      <td>11</td>\n",
       "      <td>10</td>\n",
       "      <td>7OSA8BP</td>\n",
       "      <td>2P3V50X</td>\n",
       "      <td>...</td>\n",
       "      <td>620462</td>\n",
       "      <td>CN</td>\n",
       "      <td>CN</td>\n",
       "      <td>13.0</td>\n",
       "      <td>A</td>\n",
       "      <td>G</td>\n",
       "      <td>220.0</td>\n",
       "      <td>30866.00</td>\n",
       "      <td>0</td>\n",
       "      <td>0</td>\n",
       "    </tr>\n",
       "    <tr>\n",
       "      <th>1</th>\n",
       "      <td>13844785</td>\n",
       "      <td>2020-01-02</td>\n",
       "      <td>40</td>\n",
       "      <td>B</td>\n",
       "      <td>15</td>\n",
       "      <td>21</td>\n",
       "      <td>43</td>\n",
       "      <td>40</td>\n",
       "      <td>5RQ0VK6</td>\n",
       "      <td>5VOMCFU</td>\n",
       "      <td>...</td>\n",
       "      <td>871200</td>\n",
       "      <td>CN</td>\n",
       "      <td>CN</td>\n",
       "      <td>0.0</td>\n",
       "      <td>FCN2</td>\n",
       "      <td>E</td>\n",
       "      <td>4953.5</td>\n",
       "      <td>1676759.75</td>\n",
       "      <td>1</td>\n",
       "      <td>1</td>\n",
       "    </tr>\n",
       "    <tr>\n",
       "      <th>2</th>\n",
       "      <td>65912175</td>\n",
       "      <td>2020-01-02</td>\n",
       "      <td>40</td>\n",
       "      <td>B</td>\n",
       "      <td>15</td>\n",
       "      <td>21</td>\n",
       "      <td>11</td>\n",
       "      <td>10</td>\n",
       "      <td>LP6EWRR</td>\n",
       "      <td>E808G5S</td>\n",
       "      <td>...</td>\n",
       "      <td>940180</td>\n",
       "      <td>CN</td>\n",
       "      <td>CN</td>\n",
       "      <td>0.0</td>\n",
       "      <td>C</td>\n",
       "      <td>B</td>\n",
       "      <td>6048.2</td>\n",
       "      <td>7257.84</td>\n",
       "      <td>0</td>\n",
       "      <td>0</td>\n",
       "    </tr>\n",
       "    <tr>\n",
       "      <th>3</th>\n",
       "      <td>26613376</td>\n",
       "      <td>2020-01-02</td>\n",
       "      <td>40</td>\n",
       "      <td>B</td>\n",
       "      <td>15</td>\n",
       "      <td>21</td>\n",
       "      <td>14</td>\n",
       "      <td>40</td>\n",
       "      <td>GKIYMO3</td>\n",
       "      <td>L47OGO7</td>\n",
       "      <td>...</td>\n",
       "      <td>611030</td>\n",
       "      <td>CN</td>\n",
       "      <td>CN</td>\n",
       "      <td>13.0</td>\n",
       "      <td>A</td>\n",
       "      <td>Y</td>\n",
       "      <td>62.9</td>\n",
       "      <td>5837.12</td>\n",
       "      <td>0</td>\n",
       "      <td>0</td>\n",
       "    </tr>\n",
       "    <tr>\n",
       "      <th>4</th>\n",
       "      <td>16316084</td>\n",
       "      <td>2020-01-03</td>\n",
       "      <td>40</td>\n",
       "      <td>B</td>\n",
       "      <td>15</td>\n",
       "      <td>21</td>\n",
       "      <td>11</td>\n",
       "      <td>40</td>\n",
       "      <td>PF1L1IG</td>\n",
       "      <td>PT98SSF</td>\n",
       "      <td>...</td>\n",
       "      <td>851770</td>\n",
       "      <td>US</td>\n",
       "      <td>CN</td>\n",
       "      <td>0.0</td>\n",
       "      <td>CIT</td>\n",
       "      <td>Y</td>\n",
       "      <td>0.6</td>\n",
       "      <td>111.06</td>\n",
       "      <td>1</td>\n",
       "      <td>1</td>\n",
       "    </tr>\n",
       "  </tbody>\n",
       "</table>\n",
       "<p>5 rows × 22 columns</p>\n",
       "</div>"
      ],
      "text/plain": [
       "   Declaration ID       Date  Office ID Process Type  Import Type  Import Use  \\\n",
       "0        83743051 2020-01-02         40            B           15          21   \n",
       "1        13844785 2020-01-02         40            B           15          21   \n",
       "2        65912175 2020-01-02         40            B           15          21   \n",
       "3        26613376 2020-01-02         40            B           15          21   \n",
       "4        16316084 2020-01-03         40            B           15          21   \n",
       "\n",
       "   Payment Type  Mode of Transport Declarant ID Importer ID  ... HS6 Code  \\\n",
       "0            11                 10      7OSA8BP     2P3V50X  ...   620462   \n",
       "1            43                 40      5RQ0VK6     5VOMCFU  ...   871200   \n",
       "2            11                 10      LP6EWRR     E808G5S  ...   940180   \n",
       "3            14                 40      GKIYMO3     L47OGO7  ...   611030   \n",
       "4            11                 40      PF1L1IG     PT98SSF  ...   851770   \n",
       "\n",
       "  Country of Departure  Country of Origin Tax Rate Tax Type  \\\n",
       "0                   CN                 CN     13.0        A   \n",
       "1                   CN                 CN      0.0     FCN2   \n",
       "2                   CN                 CN      0.0        C   \n",
       "3                   CN                 CN     13.0        A   \n",
       "4                   US                 CN      0.0      CIT   \n",
       "\n",
       "   Country of Origin Indicator Net Mass  Item Price  Fraud  Critical Fraud  \n",
       "0                            G    220.0    30866.00      0               0  \n",
       "1                            E   4953.5  1676759.75      1               1  \n",
       "2                            B   6048.2     7257.84      0               0  \n",
       "3                            Y     62.9     5837.12      0               0  \n",
       "4                            Y      0.6      111.06      1               1  \n",
       "\n",
       "[5 rows x 22 columns]"
      ]
     },
     "execution_count": 55,
     "metadata": {},
     "output_type": "execute_result"
    }
   ],
   "source": [
    "# First 5 rows in our dataset\n",
    "df.head()"
   ]
  },
  {
   "cell_type": "code",
   "execution_count": 56,
   "id": "794954d8",
   "metadata": {
    "colab": {
     "base_uri": "https://localhost:8080/"
    },
    "executionInfo": {
     "elapsed": 262,
     "status": "ok",
     "timestamp": 1732982262378,
     "user": {
      "displayName": "章晗",
      "userId": "00029064363224532145"
     },
     "user_tz": -480
    },
    "id": "794954d8",
    "outputId": "05a27baf-f51b-4e9f-8067-6b4ceea664cd",
    "scrolled": true
   },
   "outputs": [
    {
     "data": {
      "text/plain": [
       "(954, 22)"
      ]
     },
     "execution_count": 56,
     "metadata": {},
     "output_type": "execute_result"
    }
   ],
   "source": [
    "# Number of rows and columns\n",
    "df.shape"
   ]
  },
  {
   "cell_type": "markdown",
   "id": "131bdc69",
   "metadata": {
    "id": "131bdc69"
   },
   "source": [
    "## Feature Overview\n",
    "There are 21 columns in the dataset. Columns with \"object\" data types are categorical variables, while the others are numerical variables.（数据集中有 21 列。数据类型为“对象”的列为分类变量，其他列为数值变量。）\n",
    "\n",
    "| Attribute               | Description                                              |\n",
    "| :------------------ | :------------------------------------------------- |\n",
    "| Declaration ID           | Primary key of the record                           |\n",
    "| Date           | Date when the declaration is reported                           |\n",
    "| Office ID       | Customs office that receives the declaration (e.g., Pudong airport customs)                               |\n",
    "| Process type | Type of the declaration process (e.g., Paperless declaration) |\n",
    "| Import use | Code for import use (e.g., Raw materials for domestic consumption)     |\n",
    "| Payment type | Distinguish tariff payment type (e.g., Usance credit payable at sight)                        |\n",
    "| Mode of transport | Nine modes of transport (e.g., maritime, rail, air)              |\n",
    "| Declarant ID | Person who declares the item                  |\n",
    "| Importer ID | Consumer who imports the item                             |\n",
    "| Seller ID | Overseas business partner which supplies goods to China                           |\n",
    "| Courier ID | Delivery service provider (e.g., DHL, FedEx)                     |\n",
    "| HS6 code | 6-digit product code (e.g., 090121 = Coffee, Roasted, Not Decaffeinated)                             |\n",
    "| Country of departure | Country from which a shipment has or is scheduled to depart             |\n",
    "| Country of origin | Country of manufacture, production or design, or where an article or product comes from                            |\n",
    "| Tax rate | Tax rate of the item (%)                              |\n",
    "| Tax type | Tax types (e.g., FTA Preferential rate)               |\n",
    "| Country of origin indicator | Way of indicating the country of origin (e.g., Mark on package)      |\n",
    "| Net mass | Mass without any packaging (kg)                  |\n",
    "| Item price | Assessed value of an item (RMB)                   |\n",
    "| Fraud | Fraudulent attempt to reduce the customs duty (0/1)                                    |\n",
    "| Crifical fraud | Critical case which may threaten the public safety (0/1)             |"
   ]
  },
  {
   "cell_type": "code",
   "execution_count": 57,
   "id": "84d2f5a2",
   "metadata": {
    "colab": {
     "base_uri": "https://localhost:8080/"
    },
    "executionInfo": {
     "elapsed": 209,
     "status": "ok",
     "timestamp": 1732982264605,
     "user": {
      "displayName": "章晗",
      "userId": "00029064363224532145"
     },
     "user_tz": -480
    },
    "id": "84d2f5a2",
    "outputId": "f74cdc78-fd57-4937-a303-2f3a05dfbacd",
    "scrolled": false
   },
   "outputs": [
    {
     "name": "stdout",
     "output_type": "stream",
     "text": [
      "<class 'pandas.core.frame.DataFrame'>\n",
      "RangeIndex: 954 entries, 0 to 953\n",
      "Data columns (total 22 columns):\n",
      " #   Column                       Non-Null Count  Dtype         \n",
      "---  ------                       --------------  -----         \n",
      " 0   Declaration ID               954 non-null    object        \n",
      " 1   Date                         954 non-null    datetime64[ns]\n",
      " 2   Office ID                    954 non-null    object        \n",
      " 3   Process Type                 954 non-null    object        \n",
      " 4   Import Type                  954 non-null    int64         \n",
      " 5   Import Use                   954 non-null    object        \n",
      " 6   Payment Type                 954 non-null    object        \n",
      " 7   Mode of Transport            954 non-null    object        \n",
      " 8   Declarant ID                 954 non-null    object        \n",
      " 9   Importer ID                  954 non-null    object        \n",
      " 10  Seller ID                    887 non-null    object        \n",
      " 11  Courier ID                   416 non-null    object        \n",
      " 12  HS6 Code                     954 non-null    object        \n",
      " 13  Country of Departure         954 non-null    object        \n",
      " 14  Country of Origin            954 non-null    object        \n",
      " 15  Tax Rate                     954 non-null    float64       \n",
      " 16  Tax Type                     954 non-null    object        \n",
      " 17  Country of Origin Indicator  954 non-null    object        \n",
      " 18  Net Mass                     954 non-null    float64       \n",
      " 19  Item Price                   954 non-null    float64       \n",
      " 20  Fraud                        954 non-null    object        \n",
      " 21  Critical Fraud               954 non-null    object        \n",
      "dtypes: datetime64[ns](1), float64(3), int64(1), object(17)\n",
      "memory usage: 164.1+ KB\n"
     ]
    }
   ],
   "source": [
    "# List of columns\n",
    "df=df.astype({'Declaration ID':'str','Date':'datetime64[ns]', 'Office ID':'str', 'Process Type':'str'\n",
    "             , 'Import Use':'str', 'Payment Type':'str', 'Mode of Transport':'str',\n",
    "              'HS6 Code':'str', 'Fraud':'str', 'Critical Fraud':'str', 'Item Price':'float64'})\n",
    "df.info()"
   ]
  },
  {
   "cell_type": "markdown",
   "id": "aac87528",
   "metadata": {
    "id": "aac87528"
   },
   "source": [
    "Columns *Seller ID* and *Courier ID* have null values."
   ]
  },
  {
   "cell_type": "code",
   "execution_count": 58,
   "id": "035ccf19",
   "metadata": {
    "colab": {
     "base_uri": "https://localhost:8080/",
     "height": 742
    },
    "executionInfo": {
     "elapsed": 253,
     "status": "ok",
     "timestamp": 1732982267154,
     "user": {
      "displayName": "章晗",
      "userId": "00029064363224532145"
     },
     "user_tz": -480
    },
    "id": "035ccf19",
    "outputId": "7fcae38f-5dd1-4a7b-a045-9257ce553f00"
   },
   "outputs": [
    {
     "data": {
      "text/plain": [
       "Declaration ID                 954\n",
       "Date                           384\n",
       "Office ID                       39\n",
       "Process Type                     2\n",
       "Import Type                      1\n",
       "Import Use                      12\n",
       "Payment Type                     9\n",
       "Mode of Transport                6\n",
       "Declarant ID                   495\n",
       "Importer ID                    899\n",
       "Seller ID                      807\n",
       "Courier ID                      50\n",
       "HS6 Code                       538\n",
       "Country of Departure            49\n",
       "Country of Origin               55\n",
       "Tax Rate                        46\n",
       "Tax Type                        24\n",
       "Country of Origin Indicator      6\n",
       "Net Mass                       554\n",
       "Item Price                     898\n",
       "Fraud                            2\n",
       "Critical Fraud                   3\n",
       "dtype: int64"
      ]
     },
     "execution_count": 58,
     "metadata": {},
     "output_type": "execute_result"
    }
   ],
   "source": [
    "# Number of unique values in each features are as in the following.\n",
    "df.nunique()"
   ]
  },
  {
   "cell_type": "markdown",
   "id": "9ace92b4",
   "metadata": {
    "id": "9ace92b4"
   },
   "source": [
    "### 1. Date\n",
    "*Date*(日期) means the reported date of the declaration. The range is from January 2020 to July 2021."
   ]
  },
  {
   "cell_type": "markdown",
   "id": "mFqpSs_Nxq52",
   "metadata": {
    "id": "mFqpSs_Nxq52"
   },
   "source": [
    "（*日期* 指申报日期，范围为 2020 年 1 月至 2021 年 7 月。）"
   ]
  },
  {
   "cell_type": "code",
   "execution_count": 59,
   "id": "1b1dd088",
   "metadata": {
    "colab": {
     "base_uri": "https://localhost:8080/",
     "height": 493
    },
    "executionInfo": {
     "elapsed": 1064,
     "status": "ok",
     "timestamp": 1732982270313,
     "user": {
      "displayName": "章晗",
      "userId": "00029064363224532145"
     },
     "user_tz": -480
    },
    "id": "1b1dd088",
    "outputId": "73f2da1e-b305-4cbc-94dc-3b05cae08ddc",
    "scrolled": false
   },
   "outputs": [
    {
     "data": {
      "image/png": "[encoded data removed]",
      "text/plain": [
       "<Figure size 640x480 with 1 Axes>"
      ]
     },
     "metadata": {},
     "output_type": "display_data"
    }
   ],
   "source": [
    "# Number of montly reported data\n",
    "df_date_count = df[\"Date\"].groupby([df.Date.dt.year.rename('year'), df.Date.dt.month.rename('month')]).agg({'count'})\n",
    "df_date_count.index = df_date_count.index.map(lambda idx: f'{idx[0]}/{idx[1]}')\n",
    "sns.barplot(x=df_date_count.index, y=\"count\", data=df_date_count, color='#A0CBE8')\n",
    "plt.xticks(rotation=90)\n",
    "plt.xlabel(\"Month\")\n",
    "plt.savefig('date.pdf', bbox_inches='tight')\n",
    "plt.show()"
   ]
  },
  {
   "cell_type": "markdown",
   "id": "53393f54",
   "metadata": {
    "id": "53393f54"
   },
   "source": [
    "### 2. Office ID\n",
    "*Office ID*(办公室编码) indicates the office that disposed the declaration. Each code refers customs offices in China.\n",
    "\n",
    "- **10**: Pudong Airport Customs\n",
    "- ... and so on."
   ]
  },
  {
   "cell_type": "markdown",
   "id": "PcIHgr23x_XA",
   "metadata": {
    "id": "PcIHgr23x_XA"
   },
   "source": [
    "*办公室编码*（办公室编码）表示处理申报的办公室。每个代码都指中国海关办公室。\n",
    "\n",
    "- **10**：浦东机场海关\n",
    "- ... 等等。"
   ]
  },
  {
   "cell_type": "code",
   "execution_count": 60,
   "id": "6e2ebf77",
   "metadata": {
    "colab": {
     "base_uri": "https://localhost:8080/",
     "height": 435
    },
    "executionInfo": {
     "elapsed": 226,
     "status": "ok",
     "timestamp": 1732982273633,
     "user": {
      "displayName": "章晗",
      "userId": "00029064363224532145"
     },
     "user_tz": -480
    },
    "id": "6e2ebf77",
    "outputId": "61c6e179-3c04-4b2b-d6fa-16da8b11c86d"
   },
   "outputs": [
    {
     "name": "stdout",
     "output_type": "stream",
     "text": [
      "Values of Office ID :\n",
      "['40', '20', '33', '16', '10', '151', '30', '80', '12', '13', '62', '71', '23', '21', '53', '39', '90', '140', '130', '121', '153', '70', '154', '82', '17', '120', '60', '150', '41', '122', '131', '152', '56', '110', '102', '100', '37', '101', '14']\n",
      "Number of unique Office IDs :  39\n"
     ]
    },
    {
     "data": {
      "text/html": [
       "<div>\n",
       "<style scoped>\n",
       "    .dataframe tbody tr th:only-of-type {\n",
       "        vertical-align: middle;\n",
       "    }\n",
       "\n",
       "    .dataframe tbody tr th {\n",
       "        vertical-align: top;\n",
       "    }\n",
       "\n",
       "    .dataframe thead th {\n",
       "        text-align: right;\n",
       "    }\n",
       "</style>\n",
       "<table border=\"1\" class=\"dataframe\">\n",
       "  <thead>\n",
       "    <tr style=\"text-align: right;\">\n",
       "      <th></th>\n",
       "      <th>Office ID</th>\n",
       "      <th>Count</th>\n",
       "    </tr>\n",
       "  </thead>\n",
       "  <tbody>\n",
       "    <tr>\n",
       "      <th>0</th>\n",
       "      <td>40</td>\n",
       "      <td>332</td>\n",
       "    </tr>\n",
       "    <tr>\n",
       "      <th>1</th>\n",
       "      <td>20</td>\n",
       "      <td>164</td>\n",
       "    </tr>\n",
       "    <tr>\n",
       "      <th>2</th>\n",
       "      <td>30</td>\n",
       "      <td>130</td>\n",
       "    </tr>\n",
       "    <tr>\n",
       "      <th>3</th>\n",
       "      <td>16</td>\n",
       "      <td>65</td>\n",
       "    </tr>\n",
       "    <tr>\n",
       "      <th>4</th>\n",
       "      <td>13</td>\n",
       "      <td>45</td>\n",
       "    </tr>\n",
       "    <tr>\n",
       "      <th>5</th>\n",
       "      <td>10</td>\n",
       "      <td>37</td>\n",
       "    </tr>\n",
       "    <tr>\n",
       "      <th>6</th>\n",
       "      <td>33</td>\n",
       "      <td>23</td>\n",
       "    </tr>\n",
       "    <tr>\n",
       "      <th>7</th>\n",
       "      <td>62</td>\n",
       "      <td>20</td>\n",
       "    </tr>\n",
       "    <tr>\n",
       "      <th>8</th>\n",
       "      <td>12</td>\n",
       "      <td>14</td>\n",
       "    </tr>\n",
       "    <tr>\n",
       "      <th>9</th>\n",
       "      <td>80</td>\n",
       "      <td>14</td>\n",
       "    </tr>\n",
       "  </tbody>\n",
       "</table>\n",
       "</div>"
      ],
      "text/plain": [
       "  Office ID Count\n",
       "0        40   332\n",
       "1        20   164\n",
       "2        30   130\n",
       "3        16    65\n",
       "4        13    45\n",
       "5        10    37\n",
       "6        33    23\n",
       "7        62    20\n",
       "8        12    14\n",
       "9        80    14"
      ]
     },
     "execution_count": 60,
     "metadata": {},
     "output_type": "execute_result"
    }
   ],
   "source": [
    "# Values of Office ID\n",
    "print('Values of Office ID :')\n",
    "print([x for x in df[\"Office ID\"].unique()])\n",
    "print('Number of unique Office IDs : ' , df[\"Office ID\"].nunique())\n",
    "\n",
    "# Frequent Office IDs\n",
    "pd.DataFrame(df[\"Office ID\"].value_counts().reset_index().values, columns=[\"Office ID\", \"Count\"]).head(10)"
   ]
  },
  {
   "cell_type": "markdown",
   "id": "0b312dde",
   "metadata": {
    "id": "0b312dde"
   },
   "source": [
    "### 3. Process Type\n",
    "*Process Type*(处理种类) indicates the type of import declaration process. Each code refers to:\n",
    "- **A**: Normal paperless declaration. Paperless means processed through electronic document.\n",
    "- **B**: Normal document declaration\n",
    "- **D**: Simplified document declaration"
   ]
  },
  {
   "cell_type": "markdown",
   "id": "WHOc4QQayCoU",
   "metadata": {
    "id": "WHOc4QQayCoU"
   },
   "source": [
    "### 3. 处理种类\n",
    "*处理种类*(处理种类) 表示进口报关处理种类，各代码代表:\n",
    "- **A**: 普通无纸化报关，无纸化即以电子文件处理。\n",
    "- **D**: 简易文件报关"
   ]
  },
  {
   "cell_type": "code",
   "execution_count": 61,
   "id": "33b3e274",
   "metadata": {
    "colab": {
     "base_uri": "https://localhost:8080/",
     "height": 129
    },
    "executionInfo": {
     "elapsed": 234,
     "status": "ok",
     "timestamp": 1732982277351,
     "user": {
      "displayName": "章晗",
      "userId": "00029064363224532145"
     },
     "user_tz": -480
    },
    "id": "33b3e274",
    "outputId": "f3bd681b-944d-407c-e958-d6c426efed87",
    "scrolled": false
   },
   "outputs": [
    {
     "name": "stdout",
     "output_type": "stream",
     "text": [
      "Values of Process Type : ['B' 'D']\n"
     ]
    },
    {
     "data": {
      "text/html": [
       "<div>\n",
       "<style scoped>\n",
       "    .dataframe tbody tr th:only-of-type {\n",
       "        vertical-align: middle;\n",
       "    }\n",
       "\n",
       "    .dataframe tbody tr th {\n",
       "        vertical-align: top;\n",
       "    }\n",
       "\n",
       "    .dataframe thead th {\n",
       "        text-align: right;\n",
       "    }\n",
       "</style>\n",
       "<table border=\"1\" class=\"dataframe\">\n",
       "  <thead>\n",
       "    <tr style=\"text-align: right;\">\n",
       "      <th></th>\n",
       "      <th>Process Type</th>\n",
       "      <th>Count</th>\n",
       "    </tr>\n",
       "  </thead>\n",
       "  <tbody>\n",
       "    <tr>\n",
       "      <th>0</th>\n",
       "      <td>B</td>\n",
       "      <td>953</td>\n",
       "    </tr>\n",
       "    <tr>\n",
       "      <th>1</th>\n",
       "      <td>D</td>\n",
       "      <td>1</td>\n",
       "    </tr>\n",
       "  </tbody>\n",
       "</table>\n",
       "</div>"
      ],
      "text/plain": [
       "  Process Type Count\n",
       "0            B   953\n",
       "1            D     1"
      ]
     },
     "execution_count": 61,
     "metadata": {},
     "output_type": "execute_result"
    }
   ],
   "source": [
    "# Values of Process Type\n",
    "print(\"Values of Process Type :\", df[\"Process Type\"].unique())\n",
    "pd.DataFrame(df[\"Process Type\"].value_counts().reset_index().values, columns=[\"Process Type\", \"Count\"])"
   ]
  },
  {
   "cell_type": "markdown",
   "id": "262151e7",
   "metadata": {
    "id": "262151e7"
   },
   "source": [
    "Almost all data is process type A."
   ]
  },
  {
   "cell_type": "markdown",
   "id": "e9ee3fb6",
   "metadata": {
    "id": "e9ee3fb6"
   },
   "source": [
    "### 4. Import Use\n",
    "*Import Use*(进口用途代码) refers to type of import purpose or import condition. For example, **21** and **11** refer to normal import for domestic consumption and normal import for acquired foreign currency, respectively."
   ]
  },
  {
   "cell_type": "code",
   "execution_count": 62,
   "id": "35b14a4a",
   "metadata": {
    "colab": {
     "base_uri": "https://localhost:8080/",
     "height": 477
    },
    "executionInfo": {
     "elapsed": 230,
     "status": "ok",
     "timestamp": 1732982279330,
     "user": {
      "displayName": "章晗",
      "userId": "00029064363224532145"
     },
     "user_tz": -480
    },
    "id": "35b14a4a",
    "outputId": "9a7087de-8be3-45b5-9ed4-e263497f3c5f"
   },
   "outputs": [
    {
     "name": "stdout",
     "output_type": "stream",
     "text": [
      "Values of Import Use :\n",
      "['21', '27', '28', '26', '13', '11', '23', '12', '31', '15', '17', '14']\n",
      "Number of unique Import Uses :  12\n"
     ]
    },
    {
     "data": {
      "text/html": [
       "<div>\n",
       "<style scoped>\n",
       "    .dataframe tbody tr th:only-of-type {\n",
       "        vertical-align: middle;\n",
       "    }\n",
       "\n",
       "    .dataframe tbody tr th {\n",
       "        vertical-align: top;\n",
       "    }\n",
       "\n",
       "    .dataframe thead th {\n",
       "        text-align: right;\n",
       "    }\n",
       "</style>\n",
       "<table border=\"1\" class=\"dataframe\">\n",
       "  <thead>\n",
       "    <tr style=\"text-align: right;\">\n",
       "      <th></th>\n",
       "      <th>Import Use</th>\n",
       "      <th>Count</th>\n",
       "    </tr>\n",
       "  </thead>\n",
       "  <tbody>\n",
       "    <tr>\n",
       "      <th>0</th>\n",
       "      <td>21</td>\n",
       "      <td>780</td>\n",
       "    </tr>\n",
       "    <tr>\n",
       "      <th>1</th>\n",
       "      <td>11</td>\n",
       "      <td>71</td>\n",
       "    </tr>\n",
       "    <tr>\n",
       "      <th>2</th>\n",
       "      <td>26</td>\n",
       "      <td>40</td>\n",
       "    </tr>\n",
       "    <tr>\n",
       "      <th>3</th>\n",
       "      <td>28</td>\n",
       "      <td>23</td>\n",
       "    </tr>\n",
       "    <tr>\n",
       "      <th>4</th>\n",
       "      <td>23</td>\n",
       "      <td>12</td>\n",
       "    </tr>\n",
       "    <tr>\n",
       "      <th>5</th>\n",
       "      <td>13</td>\n",
       "      <td>7</td>\n",
       "    </tr>\n",
       "    <tr>\n",
       "      <th>6</th>\n",
       "      <td>15</td>\n",
       "      <td>6</td>\n",
       "    </tr>\n",
       "    <tr>\n",
       "      <th>7</th>\n",
       "      <td>12</td>\n",
       "      <td>6</td>\n",
       "    </tr>\n",
       "    <tr>\n",
       "      <th>8</th>\n",
       "      <td>27</td>\n",
       "      <td>4</td>\n",
       "    </tr>\n",
       "    <tr>\n",
       "      <th>9</th>\n",
       "      <td>31</td>\n",
       "      <td>2</td>\n",
       "    </tr>\n",
       "    <tr>\n",
       "      <th>10</th>\n",
       "      <td>14</td>\n",
       "      <td>2</td>\n",
       "    </tr>\n",
       "    <tr>\n",
       "      <th>11</th>\n",
       "      <td>17</td>\n",
       "      <td>1</td>\n",
       "    </tr>\n",
       "  </tbody>\n",
       "</table>\n",
       "</div>"
      ],
      "text/plain": [
       "   Import Use Count\n",
       "0          21   780\n",
       "1          11    71\n",
       "2          26    40\n",
       "3          28    23\n",
       "4          23    12\n",
       "5          13     7\n",
       "6          15     6\n",
       "7          12     6\n",
       "8          27     4\n",
       "9          31     2\n",
       "10         14     2\n",
       "11         17     1"
      ]
     },
     "execution_count": 62,
     "metadata": {},
     "output_type": "execute_result"
    }
   ],
   "source": [
    "# Values of Import Use\n",
    "print(\"Values of Import Use :\")\n",
    "print([x for x in df[\"Import Use\"].unique()])\n",
    "print('Number of unique Import Uses : ' , df[\"Import Use\"].nunique())\n",
    "\n",
    "# Frequent Import Uses\n",
    "pd.DataFrame(df[\"Import Use\"].value_counts().reset_index().values, columns=[\"Import Use\", \"Count\"])"
   ]
  },
  {
   "cell_type": "code",
   "execution_count": 63,
   "id": "551c3de9",
   "metadata": {
    "colab": {
     "base_uri": "https://localhost:8080/",
     "height": 449
    },
    "executionInfo": {
     "elapsed": 931,
     "status": "ok",
     "timestamp": 1732982282353,
     "user": {
      "displayName": "章晗",
      "userId": "00029064363224532145"
     },
     "user_tz": -480
    },
    "id": "551c3de9",
    "outputId": "daae7bc8-68f5-49c0-8a6b-6d4d4d6a9fb3"
   },
   "outputs": [
    {
     "data": {
      "image/png": "[encoded data removed]",
      "text/plain": [
       "<Figure size 640x480 with 1 Axes>"
      ]
     },
     "metadata": {},
     "output_type": "display_data"
    }
   ],
   "source": [
    "sns.histplot(data = df[\"Import Use\"], color='#A0CBE8', edgecolor='1')\n",
    "plt.savefig('ImportUse.pdf', bbox_inches='tight')"
   ]
  },
  {
   "cell_type": "markdown",
   "id": "2a69518a",
   "metadata": {
    "id": "2a69518a"
   },
   "source": [
    "### 5. Payment Type\n",
    "*Payment Type*(付款类型) indicates the type of taxation. Descriptions of example codes are as follows:\n",
    "\n",
    "- **0**: Moratorium on taxation\n",
    "- **11**: Tax payment is done before the acceptance of declaration. In other words, this type of declaration is accepted only after the tariff is payed.\n",
    "- **12**,**13**,**14**,**18**: Tax payment after the accpetance of declaration. These types means the tariff can be payed after the the declaration is accepted, with the provision of security.\n",
    "- **21**: Customs imposes and collects tariffs regardless of the payment. The example is the case that the declararnt violated a law.\n",
    "- **43**: Tax is paied monthly, not per each declaration."
   ]
  },
  {
   "cell_type": "markdown",
   "id": "EuDqrr5GzEnP",
   "metadata": {
    "id": "EuDqrr5GzEnP"
   },
   "source": [
    "### 5. 付款类型\n",
    "*付款类型*表示征税类型。示例代码说明如下：\n",
    "\n",
    "- **0**：暂缓征税\n",
    "- **11**：在接受申报前缴税。换言之，这种类型的申报只有在缴纳关税后才被接受。\n",
    "- **12**、**13**、**14**、**18**：接受申报后缴税。这些类型意味着在提供担保的情况下，可以在接受申报后缴纳关税。\n",
    "- **21**：无论是否付款，海关都会征收和征收关税。示例是申报人违反法律的情况。\n",
    "- **43**：税款按月缴纳，而不是按每份申报缴纳。"
   ]
  },
  {
   "cell_type": "code",
   "execution_count": 64,
   "id": "9a8e1ba1",
   "metadata": {
    "colab": {
     "base_uri": "https://localhost:8080/",
     "height": 383
    },
    "executionInfo": {
     "elapsed": 334,
     "status": "ok",
     "timestamp": 1732982285300,
     "user": {
      "displayName": "章晗",
      "userId": "00029064363224532145"
     },
     "user_tz": -480
    },
    "id": "9a8e1ba1",
    "outputId": "c94a74f8-0dde-4d98-ad9f-b1df83b5a7c6",
    "scrolled": false
   },
   "outputs": [
    {
     "name": "stdout",
     "output_type": "stream",
     "text": [
      "Values of Payment Type :\n",
      "['11', '43', '14', '18', '13', '0', '12', '21', '33']\n",
      "Number of unique Payment Types :  9\n"
     ]
    },
    {
     "data": {
      "text/html": [
       "<div>\n",
       "<style scoped>\n",
       "    .dataframe tbody tr th:only-of-type {\n",
       "        vertical-align: middle;\n",
       "    }\n",
       "\n",
       "    .dataframe tbody tr th {\n",
       "        vertical-align: top;\n",
       "    }\n",
       "\n",
       "    .dataframe thead th {\n",
       "        text-align: right;\n",
       "    }\n",
       "</style>\n",
       "<table border=\"1\" class=\"dataframe\">\n",
       "  <thead>\n",
       "    <tr style=\"text-align: right;\">\n",
       "      <th></th>\n",
       "      <th>Payment Type</th>\n",
       "      <th>Count</th>\n",
       "    </tr>\n",
       "  </thead>\n",
       "  <tbody>\n",
       "    <tr>\n",
       "      <th>0</th>\n",
       "      <td>11</td>\n",
       "      <td>480</td>\n",
       "    </tr>\n",
       "    <tr>\n",
       "      <th>1</th>\n",
       "      <td>43</td>\n",
       "      <td>196</td>\n",
       "    </tr>\n",
       "    <tr>\n",
       "      <th>2</th>\n",
       "      <td>18</td>\n",
       "      <td>125</td>\n",
       "    </tr>\n",
       "    <tr>\n",
       "      <th>3</th>\n",
       "      <td>14</td>\n",
       "      <td>109</td>\n",
       "    </tr>\n",
       "    <tr>\n",
       "      <th>4</th>\n",
       "      <td>0</td>\n",
       "      <td>21</td>\n",
       "    </tr>\n",
       "    <tr>\n",
       "      <th>5</th>\n",
       "      <td>13</td>\n",
       "      <td>18</td>\n",
       "    </tr>\n",
       "    <tr>\n",
       "      <th>6</th>\n",
       "      <td>21</td>\n",
       "      <td>3</td>\n",
       "    </tr>\n",
       "    <tr>\n",
       "      <th>7</th>\n",
       "      <td>12</td>\n",
       "      <td>1</td>\n",
       "    </tr>\n",
       "    <tr>\n",
       "      <th>8</th>\n",
       "      <td>33</td>\n",
       "      <td>1</td>\n",
       "    </tr>\n",
       "  </tbody>\n",
       "</table>\n",
       "</div>"
      ],
      "text/plain": [
       "  Payment Type Count\n",
       "0           11   480\n",
       "1           43   196\n",
       "2           18   125\n",
       "3           14   109\n",
       "4            0    21\n",
       "5           13    18\n",
       "6           21     3\n",
       "7           12     1\n",
       "8           33     1"
      ]
     },
     "execution_count": 64,
     "metadata": {},
     "output_type": "execute_result"
    }
   ],
   "source": [
    "# Values of Payment Type\n",
    "print(\"Values of Payment Type :\")\n",
    "print([x for x in df[\"Payment Type\"].unique()])\n",
    "print('Number of unique Payment Types : ' , df[\"Payment Type\"].nunique())\n",
    "# Frequent Payment Types\n",
    "pd.DataFrame(df[\"Payment Type\"].value_counts().reset_index().values, columns=[\"Payment Type\", \"Count\"])"
   ]
  },
  {
   "cell_type": "code",
   "execution_count": 65,
   "id": "89a6e999",
   "metadata": {
    "colab": {
     "base_uri": "https://localhost:8080/",
     "height": 452
    },
    "executionInfo": {
     "elapsed": 906,
     "status": "ok",
     "timestamp": 1732982290097,
     "user": {
      "displayName": "章晗",
      "userId": "00029064363224532145"
     },
     "user_tz": -480
    },
    "id": "89a6e999",
    "outputId": "145ee8d6-57e0-4a25-8550-014973b77dd9",
    "scrolled": true
   },
   "outputs": [
    {
     "data": {
      "image/png": "[encoded data removed]",
      "text/plain": [
       "<Figure size 640x480 with 1 Axes>"
      ]
     },
     "metadata": {},
     "output_type": "display_data"
    }
   ],
   "source": [
    "# Distribution of Payment Type\n",
    "sns.histplot(data = df[\"Payment Type\"], color='#A0CBE8', edgecolor='1')\n",
    "plt.savefig('PaymetType.pdf', bbox_inches='tight')"
   ]
  },
  {
   "cell_type": "markdown",
   "id": "75e522a8",
   "metadata": {
    "id": "75e522a8"
   },
   "source": [
    "Code **11** and **43** are most frequent."
   ]
  },
  {
   "cell_type": "markdown",
   "id": "07c837ac",
   "metadata": {
    "id": "07c837ac"
   },
   "source": [
    "### 6. Mode of Transport\n",
    "*Mode of Transport*(运输方式) indicates the means of transportation of goods. Each code indicates:\n",
    "- **10**: Maritime\n",
    "- **20**: Rail\n",
    "- **30**: Road\n",
    "- **40**: Air\n",
    "- **50**: Mail\n",
    "- **90**: Others"
   ]
  },
  {
   "cell_type": "markdown",
   "id": "4UwlEtj7zLLS",
   "metadata": {
    "id": "4UwlEtj7zLLS"
   },
   "source": [
    "### 6. 运输方式\n",
    "运输方式是指货物运输的方式。每个代码表示：\n",
    "- **10**: 海运\n",
    "- **20**: 铁路\n",
    "- **30**: 公路\n",
    "- **40**: 空运\n",
    "- **50**: 邮件\n",
    "- **90**: 其他"
   ]
  },
  {
   "cell_type": "code",
   "execution_count": 66,
   "id": "ae4915ce",
   "metadata": {
    "colab": {
     "base_uri": "https://localhost:8080/",
     "height": 289
    },
    "executionInfo": {
     "elapsed": 230,
     "status": "ok",
     "timestamp": 1732982291987,
     "user": {
      "displayName": "章晗",
      "userId": "00029064363224532145"
     },
     "user_tz": -480
    },
    "id": "ae4915ce",
    "outputId": "9f97a01e-db97-4577-f6b4-ec070124d2a6",
    "scrolled": false
   },
   "outputs": [
    {
     "name": "stdout",
     "output_type": "stream",
     "text": [
      "Values of Mode of Transport :\n",
      "['10', '40', '30', '50', '20', '90']\n",
      "Number of unique Mode of Transports :  6\n"
     ]
    },
    {
     "data": {
      "text/html": [
       "<div>\n",
       "<style scoped>\n",
       "    .dataframe tbody tr th:only-of-type {\n",
       "        vertical-align: middle;\n",
       "    }\n",
       "\n",
       "    .dataframe tbody tr th {\n",
       "        vertical-align: top;\n",
       "    }\n",
       "\n",
       "    .dataframe thead th {\n",
       "        text-align: right;\n",
       "    }\n",
       "</style>\n",
       "<table border=\"1\" class=\"dataframe\">\n",
       "  <thead>\n",
       "    <tr style=\"text-align: right;\">\n",
       "      <th></th>\n",
       "      <th>Mode of Transport</th>\n",
       "      <th>Count</th>\n",
       "    </tr>\n",
       "  </thead>\n",
       "  <tbody>\n",
       "    <tr>\n",
       "      <th>0</th>\n",
       "      <td>40</td>\n",
       "      <td>445</td>\n",
       "    </tr>\n",
       "    <tr>\n",
       "      <th>1</th>\n",
       "      <td>10</td>\n",
       "      <td>425</td>\n",
       "    </tr>\n",
       "    <tr>\n",
       "      <th>2</th>\n",
       "      <td>50</td>\n",
       "      <td>59</td>\n",
       "    </tr>\n",
       "    <tr>\n",
       "      <th>3</th>\n",
       "      <td>30</td>\n",
       "      <td>12</td>\n",
       "    </tr>\n",
       "    <tr>\n",
       "      <th>4</th>\n",
       "      <td>90</td>\n",
       "      <td>12</td>\n",
       "    </tr>\n",
       "    <tr>\n",
       "      <th>5</th>\n",
       "      <td>20</td>\n",
       "      <td>1</td>\n",
       "    </tr>\n",
       "  </tbody>\n",
       "</table>\n",
       "</div>"
      ],
      "text/plain": [
       "  Mode of Transport Count\n",
       "0                40   445\n",
       "1                10   425\n",
       "2                50    59\n",
       "3                30    12\n",
       "4                90    12\n",
       "5                20     1"
      ]
     },
     "execution_count": 66,
     "metadata": {},
     "output_type": "execute_result"
    }
   ],
   "source": [
    "# Values of Mode of Transport\n",
    "print(\"Values of Mode of Transport :\")\n",
    "print([x for x in df[\"Mode of Transport\"].unique()])\n",
    "print('Number of unique Mode of Transports : ' , df[\"Mode of Transport\"].nunique())\n",
    "\n",
    "# Distribution of Mode of Transport\n",
    "pd.DataFrame(df[\"Mode of Transport\"].value_counts().reset_index().values, columns=[\"Mode of Transport\", \"Count\"])"
   ]
  },
  {
   "cell_type": "markdown",
   "id": "0e75f4a1",
   "metadata": {
    "id": "0e75f4a1"
   },
   "source": [
    "Most of the goods are transported through marine or air freight."
   ]
  },
  {
   "cell_type": "markdown",
   "id": "b6416f5d",
   "metadata": {
    "id": "b6416f5d"
   },
   "source": [
    "### 7. Declarant ID\n",
    "*Declarant ID*(申报物品的人) is the unique anonymized code of the declarant. A declarant is a person who reports the customs declaration."
   ]
  },
  {
   "cell_type": "code",
   "execution_count": 67,
   "id": "096603e5",
   "metadata": {
    "colab": {
     "base_uri": "https://localhost:8080/"
    },
    "executionInfo": {
     "elapsed": 241,
     "status": "ok",
     "timestamp": 1732982294014,
     "user": {
      "displayName": "章晗",
      "userId": "00029064363224532145"
     },
     "user_tz": -480
    },
    "id": "096603e5",
    "outputId": "d223ea78-470d-4980-cd26-7351584ccffc"
   },
   "outputs": [
    {
     "name": "stdout",
     "output_type": "stream",
     "text": [
      "Number of unique Declarant ID :  495\n"
     ]
    }
   ],
   "source": [
    "# Number of unique Declarant ID\n",
    "print('Number of unique Declarant ID : ', df[\"Declarant ID\"].nunique())"
   ]
  },
  {
   "cell_type": "markdown",
   "id": "741b63e0",
   "metadata": {
    "id": "741b63e0"
   },
   "source": [
    "### 8. Importer ID\n",
    "*Importer ID*(进口该商品的消费者) is the anonymized ID that indicates each importer."
   ]
  },
  {
   "cell_type": "code",
   "execution_count": 68,
   "id": "3fa64e56",
   "metadata": {
    "colab": {
     "base_uri": "https://localhost:8080/"
    },
    "executionInfo": {
     "elapsed": 197,
     "status": "ok",
     "timestamp": 1732982295533,
     "user": {
      "displayName": "章晗",
      "userId": "00029064363224532145"
     },
     "user_tz": -480
    },
    "id": "3fa64e56",
    "outputId": "15549529-92f7-4223-ef76-50a90e62ab65"
   },
   "outputs": [
    {
     "name": "stdout",
     "output_type": "stream",
     "text": [
      "Number of unique Importer ID :  899\n"
     ]
    }
   ],
   "source": [
    "# Number of unique Importer ID\n",
    "print('Number of unique Importer ID : ', df[\"Importer ID\"].nunique())"
   ]
  },
  {
   "cell_type": "markdown",
   "id": "f4566efa",
   "metadata": {
    "id": "f4566efa"
   },
   "source": [
    "### 9. Seller ID\n",
    "*Seller ID*(向中国供应商品的海外商业合作伙伴) identifies a company or individual who supplies goods to Korea from a foreign country."
   ]
  },
  {
   "cell_type": "code",
   "execution_count": 69,
   "id": "accd1b05",
   "metadata": {
    "colab": {
     "base_uri": "https://localhost:8080/"
    },
    "executionInfo": {
     "elapsed": 223,
     "status": "ok",
     "timestamp": 1732982296896,
     "user": {
      "displayName": "章晗",
      "userId": "00029064363224532145"
     },
     "user_tz": -480
    },
    "id": "accd1b05",
    "outputId": "57185f3e-1c77-4cb6-a9b0-65fc8eedbcfb"
   },
   "outputs": [
    {
     "name": "stdout",
     "output_type": "stream",
     "text": [
      "Number of unique Seller ID :  807\n"
     ]
    }
   ],
   "source": [
    "# Number of unique Seller ID\n",
    "print('Number of unique Seller ID : ', df[\"Seller ID\"].nunique())"
   ]
  },
  {
   "cell_type": "markdown",
   "id": "6e374773",
   "metadata": {
    "id": "6e374773"
   },
   "source": [
    "### 10. Courier ID\n",
    "*Courier ID*(配送服务提供商) identifies a company that is registered with the customs and delivers express cargos."
   ]
  },
  {
   "cell_type": "code",
   "execution_count": 70,
   "id": "c6f7caa4",
   "metadata": {
    "colab": {
     "base_uri": "https://localhost:8080/"
    },
    "executionInfo": {
     "elapsed": 267,
     "status": "ok",
     "timestamp": 1732980154352,
     "user": {
      "displayName": "章晗",
      "userId": "00029064363224532145"
     },
     "user_tz": -480
    },
    "id": "c6f7caa4",
    "outputId": "ce98b771-740e-436a-b715-938a4f053b4c"
   },
   "outputs": [
    {
     "name": "stdout",
     "output_type": "stream",
     "text": [
      "Number of unique Courier ID :  50\n",
      "Number of non-null Courier ID :  416\n"
     ]
    }
   ],
   "source": [
    "# Number of unique Courier ID\n",
    "print('Number of unique Courier ID : ', df[\"Courier ID\"].nunique())\n",
    "print('Number of non-null Courier ID : ', df[\"Courier ID\"].count())"
   ]
  },
  {
   "cell_type": "markdown",
   "id": "unlXr6tOqs7k",
   "metadata": {
    "id": "unlXr6tOqs7k"
   },
   "source": []
  },
  {
   "cell_type": "markdown",
   "id": "1b3ce087",
   "metadata": {
    "id": "1b3ce087"
   },
   "source": [
    "### 12. HS6 Code\n",
    "*HS6 Code*(HS6编码) is a standardized 6-digit code for classifying traded products. The six digits of HS codes are standard worldwide. For example, **392690** indicates office or school supplies.\n",
    "\n",
    "Items that have length less than 6 mean the first digits are 0. For example, **71080** refers to **071080**, which is other vegetables.\n",
    "\n",
    "The description of each HS code can be downloaded at: https://www.law.go.kr/flDownload.do?flSeq=26499619"
   ]
  },
  {
   "cell_type": "code",
   "execution_count": 71,
   "id": "13865ab4",
   "metadata": {
    "colab": {
     "base_uri": "https://localhost:8080/",
     "height": 380
    },
    "executionInfo": {
     "elapsed": 359,
     "status": "ok",
     "timestamp": 1732980170428,
     "user": {
      "displayName": "章晗",
      "userId": "00029064363224532145"
     },
     "user_tz": -480
    },
    "id": "13865ab4",
    "outputId": "b2cf313d-81fa-4efb-f126-792fa6ba1700",
    "scrolled": false
   },
   "outputs": [
    {
     "name": "stdout",
     "output_type": "stream",
     "text": [
      "Number of unique HS6 Code :  538\n"
     ]
    },
    {
     "data": {
      "text/html": [
       "<div>\n",
       "<style scoped>\n",
       "    .dataframe tbody tr th:only-of-type {\n",
       "        vertical-align: middle;\n",
       "    }\n",
       "\n",
       "    .dataframe tbody tr th {\n",
       "        vertical-align: top;\n",
       "    }\n",
       "\n",
       "    .dataframe thead th {\n",
       "        text-align: right;\n",
       "    }\n",
       "</style>\n",
       "<table border=\"1\" class=\"dataframe\">\n",
       "  <thead>\n",
       "    <tr style=\"text-align: right;\">\n",
       "      <th></th>\n",
       "      <th>HS6 Code</th>\n",
       "      <th>Count</th>\n",
       "    </tr>\n",
       "  </thead>\n",
       "  <tbody>\n",
       "    <tr>\n",
       "      <th>0</th>\n",
       "      <td>392690</td>\n",
       "      <td>47</td>\n",
       "    </tr>\n",
       "    <tr>\n",
       "      <th>1</th>\n",
       "      <td>950300</td>\n",
       "      <td>20</td>\n",
       "    </tr>\n",
       "    <tr>\n",
       "      <th>2</th>\n",
       "      <td>850440</td>\n",
       "      <td>14</td>\n",
       "    </tr>\n",
       "    <tr>\n",
       "      <th>3</th>\n",
       "      <td>71080</td>\n",
       "      <td>14</td>\n",
       "    </tr>\n",
       "    <tr>\n",
       "      <th>4</th>\n",
       "      <td>732690</td>\n",
       "      <td>11</td>\n",
       "    </tr>\n",
       "    <tr>\n",
       "      <th>5</th>\n",
       "      <td>854370</td>\n",
       "      <td>10</td>\n",
       "    </tr>\n",
       "    <tr>\n",
       "      <th>6</th>\n",
       "      <td>610910</td>\n",
       "      <td>10</td>\n",
       "    </tr>\n",
       "    <tr>\n",
       "      <th>7</th>\n",
       "      <td>630790</td>\n",
       "      <td>9</td>\n",
       "    </tr>\n",
       "    <tr>\n",
       "      <th>8</th>\n",
       "      <td>330499</td>\n",
       "      <td>8</td>\n",
       "    </tr>\n",
       "    <tr>\n",
       "      <th>9</th>\n",
       "      <td>854442</td>\n",
       "      <td>8</td>\n",
       "    </tr>\n",
       "  </tbody>\n",
       "</table>\n",
       "</div>"
      ],
      "text/plain": [
       "  HS6 Code Count\n",
       "0   392690    47\n",
       "1   950300    20\n",
       "2   850440    14\n",
       "3    71080    14\n",
       "4   732690    11\n",
       "5   854370    10\n",
       "6   610910    10\n",
       "7   630790     9\n",
       "8   330499     8\n",
       "9   854442     8"
      ]
     },
     "execution_count": 71,
     "metadata": {},
     "output_type": "execute_result"
    }
   ],
   "source": [
    "# Number of unique HS6 Code\n",
    "column = \"HS6 Code\"\n",
    "print(f'Number of unique {column} : ', df[column].nunique())\n",
    "\n",
    "# Frequent HS6 Code\n",
    "pd.DataFrame(df[column].value_counts().reset_index().values, columns=[column, \"Count\"]).head(10)"
   ]
  },
  {
   "cell_type": "markdown",
   "id": "90c954ac",
   "metadata": {
    "id": "90c954ac"
   },
   "source": [
    "### 12. Country of Departure\n",
    "*Country of Departure*(货物已发或计划发运的国家) indicates the country that the ship departed. The code follows the universal ISO 3166-1 standard two-letter(alpha-2) code. For example, **CN** refers to China."
   ]
  },
  {
   "cell_type": "code",
   "execution_count": 72,
   "id": "1968f327",
   "metadata": {
    "colab": {
     "base_uri": "https://localhost:8080/",
     "height": 380
    },
    "executionInfo": {
     "elapsed": 251,
     "status": "ok",
     "timestamp": 1732980216441,
     "user": {
      "displayName": "章晗",
      "userId": "00029064363224532145"
     },
     "user_tz": -480
    },
    "id": "1968f327",
    "outputId": "71529f66-4ead-477f-f20a-6be4c496351f",
    "scrolled": true
   },
   "outputs": [
    {
     "name": "stdout",
     "output_type": "stream",
     "text": [
      "Number of unique Country of Departure :  49\n"
     ]
    },
    {
     "data": {
      "text/html": [
       "<div>\n",
       "<style scoped>\n",
       "    .dataframe tbody tr th:only-of-type {\n",
       "        vertical-align: middle;\n",
       "    }\n",
       "\n",
       "    .dataframe tbody tr th {\n",
       "        vertical-align: top;\n",
       "    }\n",
       "\n",
       "    .dataframe thead th {\n",
       "        text-align: right;\n",
       "    }\n",
       "</style>\n",
       "<table border=\"1\" class=\"dataframe\">\n",
       "  <thead>\n",
       "    <tr style=\"text-align: right;\">\n",
       "      <th></th>\n",
       "      <th>Country of Departure</th>\n",
       "      <th>Count</th>\n",
       "    </tr>\n",
       "  </thead>\n",
       "  <tbody>\n",
       "    <tr>\n",
       "      <th>0</th>\n",
       "      <td>CN</td>\n",
       "      <td>445</td>\n",
       "    </tr>\n",
       "    <tr>\n",
       "      <th>1</th>\n",
       "      <td>JP</td>\n",
       "      <td>109</td>\n",
       "    </tr>\n",
       "    <tr>\n",
       "      <th>2</th>\n",
       "      <td>US</td>\n",
       "      <td>87</td>\n",
       "    </tr>\n",
       "    <tr>\n",
       "      <th>3</th>\n",
       "      <td>DE</td>\n",
       "      <td>45</td>\n",
       "    </tr>\n",
       "    <tr>\n",
       "      <th>4</th>\n",
       "      <td>VN</td>\n",
       "      <td>43</td>\n",
       "    </tr>\n",
       "    <tr>\n",
       "      <th>5</th>\n",
       "      <td>HK</td>\n",
       "      <td>40</td>\n",
       "    </tr>\n",
       "    <tr>\n",
       "      <th>6</th>\n",
       "      <td>IT</td>\n",
       "      <td>27</td>\n",
       "    </tr>\n",
       "    <tr>\n",
       "      <th>7</th>\n",
       "      <td>TH</td>\n",
       "      <td>15</td>\n",
       "    </tr>\n",
       "    <tr>\n",
       "      <th>8</th>\n",
       "      <td>SG</td>\n",
       "      <td>15</td>\n",
       "    </tr>\n",
       "    <tr>\n",
       "      <th>9</th>\n",
       "      <td>TW</td>\n",
       "      <td>15</td>\n",
       "    </tr>\n",
       "  </tbody>\n",
       "</table>\n",
       "</div>"
      ],
      "text/plain": [
       "  Country of Departure Count\n",
       "0                   CN   445\n",
       "1                   JP   109\n",
       "2                   US    87\n",
       "3                   DE    45\n",
       "4                   VN    43\n",
       "5                   HK    40\n",
       "6                   IT    27\n",
       "7                   TH    15\n",
       "8                   SG    15\n",
       "9                   TW    15"
      ]
     },
     "execution_count": 72,
     "metadata": {},
     "output_type": "execute_result"
    }
   ],
   "source": [
    "# Number of unique Country of Departure\n",
    "print('Number of unique Country of Departure : ' , df[\"Country of Departure\"].nunique())\n",
    "\n",
    "# Frequent Country of Departure\n",
    "pd.DataFrame(df[\"Country of Departure\"].value_counts().reset_index().values, columns=[\"Country of Departure\", \"Count\"]).head(10)"
   ]
  },
  {
   "cell_type": "markdown",
   "id": "8839adde",
   "metadata": {
    "id": "8839adde"
   },
   "source": [
    "### 13. Country of Origin\n",
    "Country of Origin(原产国) indicates the country of origin of the cargo. This also follows the universal ISO 3166-1 alpha-2 code."
   ]
  },
  {
   "cell_type": "code",
   "execution_count": 73,
   "id": "bd5f5d0c",
   "metadata": {
    "colab": {
     "base_uri": "https://localhost:8080/",
     "height": 380
    },
    "executionInfo": {
     "elapsed": 354,
     "status": "ok",
     "timestamp": 1732980264684,
     "user": {
      "displayName": "章晗",
      "userId": "00029064363224532145"
     },
     "user_tz": -480
    },
    "id": "bd5f5d0c",
    "outputId": "20a7fca4-c3b2-464a-dc94-bffa927de103",
    "scrolled": true
   },
   "outputs": [
    {
     "name": "stdout",
     "output_type": "stream",
     "text": [
      "Number of unique Country of Origin :  55\n"
     ]
    },
    {
     "data": {
      "text/html": [
       "<div>\n",
       "<style scoped>\n",
       "    .dataframe tbody tr th:only-of-type {\n",
       "        vertical-align: middle;\n",
       "    }\n",
       "\n",
       "    .dataframe tbody tr th {\n",
       "        vertical-align: top;\n",
       "    }\n",
       "\n",
       "    .dataframe thead th {\n",
       "        text-align: right;\n",
       "    }\n",
       "</style>\n",
       "<table border=\"1\" class=\"dataframe\">\n",
       "  <thead>\n",
       "    <tr style=\"text-align: right;\">\n",
       "      <th></th>\n",
       "      <th>Country of Origin</th>\n",
       "      <th>Count</th>\n",
       "    </tr>\n",
       "  </thead>\n",
       "  <tbody>\n",
       "    <tr>\n",
       "      <th>0</th>\n",
       "      <td>CN</td>\n",
       "      <td>500</td>\n",
       "    </tr>\n",
       "    <tr>\n",
       "      <th>1</th>\n",
       "      <td>JP</td>\n",
       "      <td>86</td>\n",
       "    </tr>\n",
       "    <tr>\n",
       "      <th>2</th>\n",
       "      <td>US</td>\n",
       "      <td>66</td>\n",
       "    </tr>\n",
       "    <tr>\n",
       "      <th>3</th>\n",
       "      <td>KR</td>\n",
       "      <td>42</td>\n",
       "    </tr>\n",
       "    <tr>\n",
       "      <th>4</th>\n",
       "      <td>VN</td>\n",
       "      <td>37</td>\n",
       "    </tr>\n",
       "    <tr>\n",
       "      <th>5</th>\n",
       "      <td>DE</td>\n",
       "      <td>33</td>\n",
       "    </tr>\n",
       "    <tr>\n",
       "      <th>6</th>\n",
       "      <td>IT</td>\n",
       "      <td>25</td>\n",
       "    </tr>\n",
       "    <tr>\n",
       "      <th>7</th>\n",
       "      <td>TH</td>\n",
       "      <td>17</td>\n",
       "    </tr>\n",
       "    <tr>\n",
       "      <th>8</th>\n",
       "      <td>TW</td>\n",
       "      <td>12</td>\n",
       "    </tr>\n",
       "    <tr>\n",
       "      <th>9</th>\n",
       "      <td>ID</td>\n",
       "      <td>12</td>\n",
       "    </tr>\n",
       "  </tbody>\n",
       "</table>\n",
       "</div>"
      ],
      "text/plain": [
       "  Country of Origin Count\n",
       "0                CN   500\n",
       "1                JP    86\n",
       "2                US    66\n",
       "3                KR    42\n",
       "4                VN    37\n",
       "5                DE    33\n",
       "6                IT    25\n",
       "7                TH    17\n",
       "8                TW    12\n",
       "9                ID    12"
      ]
     },
     "execution_count": 73,
     "metadata": {},
     "output_type": "execute_result"
    }
   ],
   "source": [
    "# Number of unique Country of Origin\n",
    "print('Number of unique Country of Origin : ' , df[\"Country of Origin\"].nunique())\n",
    "\n",
    "# Frequent Country of Origin\n",
    "pd.DataFrame(df[\"Country of Origin\"].value_counts().reset_index().values, columns=[\"Country of Origin\", \"Count\"]).head(10)"
   ]
  },
  {
   "cell_type": "markdown",
   "id": "4c69c4b2",
   "metadata": {
    "id": "4c69c4b2"
   },
   "source": [
    "### 14. Tax Rate\n",
    "*Tax Rate*(税率) is the tax rate(%) of the item. Tax rate mainly depends on the class of item(*HS6 Code*). The type of value is float."
   ]
  },
  {
   "cell_type": "code",
   "execution_count": 74,
   "id": "8d2dca32",
   "metadata": {
    "colab": {
     "base_uri": "https://localhost:8080/",
     "height": 380
    },
    "executionInfo": {
     "elapsed": 257,
     "status": "ok",
     "timestamp": 1732980281261,
     "user": {
      "displayName": "章晗",
      "userId": "00029064363224532145"
     },
     "user_tz": -480
    },
    "id": "8d2dca32",
    "outputId": "a72a6da8-6248-4514-881f-8d9c74d47bde",
    "scrolled": true
   },
   "outputs": [
    {
     "name": "stdout",
     "output_type": "stream",
     "text": [
      "Number of unique Tax Rate :  46\n"
     ]
    },
    {
     "data": {
      "text/html": [
       "<div>\n",
       "<style scoped>\n",
       "    .dataframe tbody tr th:only-of-type {\n",
       "        vertical-align: middle;\n",
       "    }\n",
       "\n",
       "    .dataframe tbody tr th {\n",
       "        vertical-align: top;\n",
       "    }\n",
       "\n",
       "    .dataframe thead th {\n",
       "        text-align: right;\n",
       "    }\n",
       "</style>\n",
       "<table border=\"1\" class=\"dataframe\">\n",
       "  <thead>\n",
       "    <tr style=\"text-align: right;\">\n",
       "      <th></th>\n",
       "      <th>Count</th>\n",
       "      <th>count</th>\n",
       "    </tr>\n",
       "  </thead>\n",
       "  <tbody>\n",
       "    <tr>\n",
       "      <th>0</th>\n",
       "      <td>0.0</td>\n",
       "      <td>338</td>\n",
       "    </tr>\n",
       "    <tr>\n",
       "      <th>1</th>\n",
       "      <td>8.0</td>\n",
       "      <td>236</td>\n",
       "    </tr>\n",
       "    <tr>\n",
       "      <th>2</th>\n",
       "      <td>6.5</td>\n",
       "      <td>98</td>\n",
       "    </tr>\n",
       "    <tr>\n",
       "      <th>3</th>\n",
       "      <td>13.0</td>\n",
       "      <td>80</td>\n",
       "    </tr>\n",
       "    <tr>\n",
       "      <th>4</th>\n",
       "      <td>3.2</td>\n",
       "      <td>22</td>\n",
       "    </tr>\n",
       "    <tr>\n",
       "      <th>5</th>\n",
       "      <td>10.0</td>\n",
       "      <td>18</td>\n",
       "    </tr>\n",
       "    <tr>\n",
       "      <th>6</th>\n",
       "      <td>2.4</td>\n",
       "      <td>15</td>\n",
       "    </tr>\n",
       "    <tr>\n",
       "      <th>7</th>\n",
       "      <td>27.0</td>\n",
       "      <td>14</td>\n",
       "    </tr>\n",
       "    <tr>\n",
       "      <th>8</th>\n",
       "      <td>5.0</td>\n",
       "      <td>13</td>\n",
       "    </tr>\n",
       "    <tr>\n",
       "      <th>9</th>\n",
       "      <td>5.2</td>\n",
       "      <td>12</td>\n",
       "    </tr>\n",
       "  </tbody>\n",
       "</table>\n",
       "</div>"
      ],
      "text/plain": [
       "   Count  count\n",
       "0    0.0    338\n",
       "1    8.0    236\n",
       "2    6.5     98\n",
       "3   13.0     80\n",
       "4    3.2     22\n",
       "5   10.0     18\n",
       "6    2.4     15\n",
       "7   27.0     14\n",
       "8    5.0     13\n",
       "9    5.2     12"
      ]
     },
     "execution_count": 74,
     "metadata": {},
     "output_type": "execute_result"
    }
   ],
   "source": [
    "# Number of unique Tax Rate\n",
    "print('Number of unique Tax Rate : ' , df[\"Tax Rate\"].nunique())\n",
    "\n",
    "# Frequent Tax Rate values\n",
    "pd.DataFrame(df[\"Tax Rate\"].value_counts().reset_index()).rename(columns={'index':'Tax Rate', 'Tax Rate':'Count'}).head(10)"
   ]
  },
  {
   "cell_type": "code",
   "execution_count": 75,
   "id": "fce11ee0",
   "metadata": {
    "colab": {
     "base_uri": "https://localhost:8080/",
     "height": 611
    },
    "executionInfo": {
     "elapsed": 1980,
     "status": "ok",
     "timestamp": 1732980349428,
     "user": {
      "displayName": "章晗",
      "userId": "00029064363224532145"
     },
     "user_tz": -480
    },
    "id": "fce11ee0",
    "outputId": "83a3180b-a6cb-43b4-fe9d-3bffa1927d07"
   },
   "outputs": [
    {
     "data": {
      "image/png": "[encoded data removed]",
      "text/plain": [
       "<Figure size 1100x600 with 1 Axes>"
      ]
     },
     "metadata": {},
     "output_type": "display_data"
    }
   ],
   "source": [
    "# Distribution of Tax Rate\n",
    "sns.displot(df[\"Tax Rate\"]+1, color='#A0CBE8', kind='hist', log_scale=True, edgecolor='1', kde = True,\n",
    "           height=6, aspect=11/6).set_axis_labels(\"Tax Rate(log scale)\", \"Count\", fontsize=13)\n",
    "plt.savefig('TaxRate.pdf', bbox_inches='tight')"
   ]
  },
  {
   "cell_type": "markdown",
   "id": "5fbb65e3",
   "metadata": {
    "id": "5fbb65e3"
   },
   "source": [
    "### 15. Tax Type\n",
    "*Tax Type*(税种) indicates type of taxation depending on the trade agreements. For example, code **A** refers to general duty and **C** refers to concessionary tariffs under WTO agreements."
   ]
  },
  {
   "cell_type": "code",
   "execution_count": 76,
   "id": "b77839f5",
   "metadata": {
    "colab": {
     "base_uri": "https://localhost:8080/",
     "height": 380
    },
    "executionInfo": {
     "elapsed": 222,
     "status": "ok",
     "timestamp": 1732980379639,
     "user": {
      "displayName": "章晗",
      "userId": "00029064363224532145"
     },
     "user_tz": -480
    },
    "id": "b77839f5",
    "outputId": "515dc8b5-58aa-4c3d-ab5b-6fa4b6345494"
   },
   "outputs": [
    {
     "name": "stdout",
     "output_type": "stream",
     "text": [
      "Number of unique Tax Type :  24\n"
     ]
    },
    {
     "data": {
      "text/html": [
       "<div>\n",
       "<style scoped>\n",
       "    .dataframe tbody tr th:only-of-type {\n",
       "        vertical-align: middle;\n",
       "    }\n",
       "\n",
       "    .dataframe tbody tr th {\n",
       "        vertical-align: top;\n",
       "    }\n",
       "\n",
       "    .dataframe thead th {\n",
       "        text-align: right;\n",
       "    }\n",
       "</style>\n",
       "<table border=\"1\" class=\"dataframe\">\n",
       "  <thead>\n",
       "    <tr style=\"text-align: right;\">\n",
       "      <th></th>\n",
       "      <th>Tax Type</th>\n",
       "      <th>Count</th>\n",
       "    </tr>\n",
       "  </thead>\n",
       "  <tbody>\n",
       "    <tr>\n",
       "      <th>0</th>\n",
       "      <td>A</td>\n",
       "      <td>370</td>\n",
       "    </tr>\n",
       "    <tr>\n",
       "      <th>1</th>\n",
       "      <td>C</td>\n",
       "      <td>203</td>\n",
       "    </tr>\n",
       "    <tr>\n",
       "      <th>2</th>\n",
       "      <td>FCN1</td>\n",
       "      <td>180</td>\n",
       "    </tr>\n",
       "    <tr>\n",
       "      <th>3</th>\n",
       "      <td>FEU1</td>\n",
       "      <td>52</td>\n",
       "    </tr>\n",
       "    <tr>\n",
       "      <th>4</th>\n",
       "      <td>CIT</td>\n",
       "      <td>37</td>\n",
       "    </tr>\n",
       "    <tr>\n",
       "      <th>5</th>\n",
       "      <td>FAS1</td>\n",
       "      <td>30</td>\n",
       "    </tr>\n",
       "    <tr>\n",
       "      <th>6</th>\n",
       "      <td>FUS1</td>\n",
       "      <td>28</td>\n",
       "    </tr>\n",
       "    <tr>\n",
       "      <th>7</th>\n",
       "      <td>E1</td>\n",
       "      <td>12</td>\n",
       "    </tr>\n",
       "    <tr>\n",
       "      <th>8</th>\n",
       "      <td>FVN1</td>\n",
       "      <td>11</td>\n",
       "    </tr>\n",
       "    <tr>\n",
       "      <th>9</th>\n",
       "      <td>F</td>\n",
       "      <td>6</td>\n",
       "    </tr>\n",
       "  </tbody>\n",
       "</table>\n",
       "</div>"
      ],
      "text/plain": [
       "  Tax Type Count\n",
       "0        A   370\n",
       "1        C   203\n",
       "2     FCN1   180\n",
       "3     FEU1    52\n",
       "4      CIT    37\n",
       "5     FAS1    30\n",
       "6     FUS1    28\n",
       "7       E1    12\n",
       "8     FVN1    11\n",
       "9        F     6"
      ]
     },
     "execution_count": 76,
     "metadata": {},
     "output_type": "execute_result"
    }
   ],
   "source": [
    "# Number of unique Tax Type\n",
    "column = \"Tax Type\"\n",
    "print(f'Number of unique {column} : ', df[column].nunique())\n",
    "\n",
    "# Frequent Tax types\n",
    "pd.DataFrame(df[column].value_counts().reset_index().values, columns=[column, \"Count\"]).head(10)"
   ]
  },
  {
   "cell_type": "markdown",
   "id": "b4160b29",
   "metadata": {
    "id": "b4160b29"
   },
   "source": [
    "### 16. Country of Origin Indicator\n",
    "*Country of Origin Indicator*(表明原产国的方式) specifies whether the country of origin is indicated on the cargo.\n",
    "\n",
    "- **B** : Indicated only on the package\n",
    "- **E** : Not indicated / Subject of exemption from country of origin indication\n",
    "- **G** : Indicated only on the item\n",
    "- **N** : Not indicated / Subject of country of origin indication\n",
    "- **S** : Not indicated / Not a subject of country of origin indication\n",
    "- **Y** : Indicated both on the item and the package"
   ]
  },
  {
   "cell_type": "code",
   "execution_count": 77,
   "id": "69168424",
   "metadata": {
    "colab": {
     "base_uri": "https://localhost:8080/",
     "height": 255
    },
    "executionInfo": {
     "elapsed": 247,
     "status": "ok",
     "timestamp": 1732980392298,
     "user": {
      "displayName": "章晗",
      "userId": "00029064363224532145"
     },
     "user_tz": -480
    },
    "id": "69168424",
    "outputId": "c20ff020-a816-472d-90d7-2c4de7e0d579"
   },
   "outputs": [
    {
     "name": "stdout",
     "output_type": "stream",
     "text": [
      "Number of unique Country of Origin Indicator :  6\n"
     ]
    },
    {
     "data": {
      "text/html": [
       "<div>\n",
       "<style scoped>\n",
       "    .dataframe tbody tr th:only-of-type {\n",
       "        vertical-align: middle;\n",
       "    }\n",
       "\n",
       "    .dataframe tbody tr th {\n",
       "        vertical-align: top;\n",
       "    }\n",
       "\n",
       "    .dataframe thead th {\n",
       "        text-align: right;\n",
       "    }\n",
       "</style>\n",
       "<table border=\"1\" class=\"dataframe\">\n",
       "  <thead>\n",
       "    <tr style=\"text-align: right;\">\n",
       "      <th></th>\n",
       "      <th>Count</th>\n",
       "      <th>count</th>\n",
       "    </tr>\n",
       "  </thead>\n",
       "  <tbody>\n",
       "    <tr>\n",
       "      <th>0</th>\n",
       "      <td>E</td>\n",
       "      <td>313</td>\n",
       "    </tr>\n",
       "    <tr>\n",
       "      <th>1</th>\n",
       "      <td>G</td>\n",
       "      <td>215</td>\n",
       "    </tr>\n",
       "    <tr>\n",
       "      <th>2</th>\n",
       "      <td>Y</td>\n",
       "      <td>203</td>\n",
       "    </tr>\n",
       "    <tr>\n",
       "      <th>3</th>\n",
       "      <td>B</td>\n",
       "      <td>117</td>\n",
       "    </tr>\n",
       "    <tr>\n",
       "      <th>4</th>\n",
       "      <td>S</td>\n",
       "      <td>105</td>\n",
       "    </tr>\n",
       "    <tr>\n",
       "      <th>5</th>\n",
       "      <td>N</td>\n",
       "      <td>1</td>\n",
       "    </tr>\n",
       "  </tbody>\n",
       "</table>\n",
       "</div>"
      ],
      "text/plain": [
       "  Count  count\n",
       "0     E    313\n",
       "1     G    215\n",
       "2     Y    203\n",
       "3     B    117\n",
       "4     S    105\n",
       "5     N      1"
      ]
     },
     "execution_count": 77,
     "metadata": {},
     "output_type": "execute_result"
    }
   ],
   "source": [
    "# Number of unique Country of Origin Indicator\n",
    "column = \"Country of Origin Indicator\"\n",
    "print(f'Number of unique {column} : ', df[column].nunique())\n",
    "\n",
    "# Frequent Country of Origin Indicator\n",
    "pd.DataFrame(df[column].value_counts().reset_index()).rename(columns={'index':column, column:'Count'}).head(10)"
   ]
  },
  {
   "cell_type": "markdown",
   "id": "3ddd9d63",
   "metadata": {
    "id": "3ddd9d63"
   },
   "source": [
    "### 17. Net Mass\n",
    "*Net Mass*(不含包装重量) means the mass of the item excluding the mass of the package. The unit is kilogram(Kg). The value highly depends on the class of item, i.e., *HS6 Code*."
   ]
  },
  {
   "cell_type": "code",
   "execution_count": 78,
   "id": "1774b8ae",
   "metadata": {
    "colab": {
     "base_uri": "https://localhost:8080/",
     "height": 380
    },
    "executionInfo": {
     "elapsed": 229,
     "status": "ok",
     "timestamp": 1732980451415,
     "user": {
      "displayName": "章晗",
      "userId": "00029064363224532145"
     },
     "user_tz": -480
    },
    "id": "1774b8ae",
    "outputId": "7d3e7f82-6456-46de-da3e-3827ec0b232d",
    "scrolled": true
   },
   "outputs": [
    {
     "name": "stdout",
     "output_type": "stream",
     "text": [
      "Number of unique Net Mass :  554\n"
     ]
    },
    {
     "data": {
      "text/html": [
       "<div>\n",
       "<style scoped>\n",
       "    .dataframe tbody tr th:only-of-type {\n",
       "        vertical-align: middle;\n",
       "    }\n",
       "\n",
       "    .dataframe tbody tr th {\n",
       "        vertical-align: top;\n",
       "    }\n",
       "\n",
       "    .dataframe thead th {\n",
       "        text-align: right;\n",
       "    }\n",
       "</style>\n",
       "<table border=\"1\" class=\"dataframe\">\n",
       "  <thead>\n",
       "    <tr style=\"text-align: right;\">\n",
       "      <th></th>\n",
       "      <th>Count</th>\n",
       "      <th>count</th>\n",
       "    </tr>\n",
       "  </thead>\n",
       "  <tbody>\n",
       "    <tr>\n",
       "      <th>0</th>\n",
       "      <td>2.0</td>\n",
       "      <td>22</td>\n",
       "    </tr>\n",
       "    <tr>\n",
       "      <th>1</th>\n",
       "      <td>1.0</td>\n",
       "      <td>18</td>\n",
       "    </tr>\n",
       "    <tr>\n",
       "      <th>2</th>\n",
       "      <td>10.0</td>\n",
       "      <td>15</td>\n",
       "    </tr>\n",
       "    <tr>\n",
       "      <th>3</th>\n",
       "      <td>3.0</td>\n",
       "      <td>13</td>\n",
       "    </tr>\n",
       "    <tr>\n",
       "      <th>4</th>\n",
       "      <td>5.0</td>\n",
       "      <td>13</td>\n",
       "    </tr>\n",
       "    <tr>\n",
       "      <th>5</th>\n",
       "      <td>20.0</td>\n",
       "      <td>12</td>\n",
       "    </tr>\n",
       "    <tr>\n",
       "      <th>6</th>\n",
       "      <td>4.0</td>\n",
       "      <td>11</td>\n",
       "    </tr>\n",
       "    <tr>\n",
       "      <th>7</th>\n",
       "      <td>100.0</td>\n",
       "      <td>11</td>\n",
       "    </tr>\n",
       "    <tr>\n",
       "      <th>8</th>\n",
       "      <td>0.4</td>\n",
       "      <td>11</td>\n",
       "    </tr>\n",
       "    <tr>\n",
       "      <th>9</th>\n",
       "      <td>50.0</td>\n",
       "      <td>10</td>\n",
       "    </tr>\n",
       "  </tbody>\n",
       "</table>\n",
       "</div>"
      ],
      "text/plain": [
       "   Count  count\n",
       "0    2.0     22\n",
       "1    1.0     18\n",
       "2   10.0     15\n",
       "3    3.0     13\n",
       "4    5.0     13\n",
       "5   20.0     12\n",
       "6    4.0     11\n",
       "7  100.0     11\n",
       "8    0.4     11\n",
       "9   50.0     10"
      ]
     },
     "execution_count": 78,
     "metadata": {},
     "output_type": "execute_result"
    }
   ],
   "source": [
    "# Number of unique Net Mass\n",
    "column = \"Net Mass\"\n",
    "print(f'Number of unique {column} : ', df[column].nunique())\n",
    "\n",
    "# Frequent Net Mass\n",
    "pd.DataFrame(df[column].value_counts().reset_index()).rename(columns={'index':column, column:'Count'}).head(10)"
   ]
  },
  {
   "cell_type": "code",
   "execution_count": 79,
   "id": "4a04b4b2",
   "metadata": {
    "colab": {
     "base_uri": "https://localhost:8080/",
     "height": 611
    },
    "executionInfo": {
     "elapsed": 3207,
     "status": "ok",
     "timestamp": 1732980473681,
     "user": {
      "displayName": "章晗",
      "userId": "00029064363224532145"
     },
     "user_tz": -480
    },
    "id": "4a04b4b2",
    "outputId": "02523b1a-98f1-478b-ca73-e7319588f077",
    "scrolled": false
   },
   "outputs": [
    {
     "data": {
      "image/png": "[encoded data removed]",
      "text/plain": [
       "<Figure size 1100x600 with 1 Axes>"
      ]
     },
     "metadata": {},
     "output_type": "display_data"
    }
   ],
   "source": [
    "# Distribution of Net Mass\n",
    "sns.displot(df[column]+1, color='#A0CBE8', kind='hist', log_scale=True, edgecolor='1', kde = True,\n",
    "           height=6, aspect=11/6).set_axis_labels(f\"{column}(log scale)\", \"Count\", fontsize=13)\n",
    "\n",
    "plt.savefig('NetMass.pdf', bbox_inches='tight')"
   ]
  },
  {
   "cell_type": "markdown",
   "id": "09da47d2",
   "metadata": {
    "id": "09da47d2"
   },
   "source": [
    "### 18. Item Price\n",
    "*Item Price*(货物价值) refers to the price that the tariff is imposed on. The price is in KRW. Usually, the value is assumed as the price of the goods. Sometimes it includes transportation fees or packaging costs. **0.0** is regarded as null value."
   ]
  },
  {
   "cell_type": "code",
   "execution_count": 80,
   "id": "c3bfe8fc",
   "metadata": {
    "colab": {
     "base_uri": "https://localhost:8080/",
     "height": 380
    },
    "executionInfo": {
     "elapsed": 249,
     "status": "ok",
     "timestamp": 1732980628179,
     "user": {
      "displayName": "章晗",
      "userId": "00029064363224532145"
     },
     "user_tz": -480
    },
    "id": "c3bfe8fc",
    "outputId": "790e1bdd-6854-4e32-970e-7e50f2f27bcf"
   },
   "outputs": [
    {
     "name": "stdout",
     "output_type": "stream",
     "text": [
      "Number of unique Item Price :  898\n"
     ]
    },
    {
     "data": {
      "text/html": [
       "<div>\n",
       "<style scoped>\n",
       "    .dataframe tbody tr th:only-of-type {\n",
       "        vertical-align: middle;\n",
       "    }\n",
       "\n",
       "    .dataframe tbody tr th {\n",
       "        vertical-align: top;\n",
       "    }\n",
       "\n",
       "    .dataframe thead th {\n",
       "        text-align: right;\n",
       "    }\n",
       "</style>\n",
       "<table border=\"1\" class=\"dataframe\">\n",
       "  <thead>\n",
       "    <tr style=\"text-align: right;\">\n",
       "      <th></th>\n",
       "      <th>Count</th>\n",
       "      <th>count</th>\n",
       "    </tr>\n",
       "  </thead>\n",
       "  <tbody>\n",
       "    <tr>\n",
       "      <th>0</th>\n",
       "      <td>0.00</td>\n",
       "      <td>7</td>\n",
       "    </tr>\n",
       "    <tr>\n",
       "      <th>1</th>\n",
       "      <td>15912000.00</td>\n",
       "      <td>4</td>\n",
       "    </tr>\n",
       "    <tr>\n",
       "      <th>2</th>\n",
       "      <td>319.00</td>\n",
       "      <td>3</td>\n",
       "    </tr>\n",
       "    <tr>\n",
       "      <th>3</th>\n",
       "      <td>0.36</td>\n",
       "      <td>3</td>\n",
       "    </tr>\n",
       "    <tr>\n",
       "      <th>4</th>\n",
       "      <td>7036800.00</td>\n",
       "      <td>3</td>\n",
       "    </tr>\n",
       "    <tr>\n",
       "      <th>5</th>\n",
       "      <td>6786.00</td>\n",
       "      <td>2</td>\n",
       "    </tr>\n",
       "    <tr>\n",
       "      <th>6</th>\n",
       "      <td>5717.60</td>\n",
       "      <td>2</td>\n",
       "    </tr>\n",
       "    <tr>\n",
       "      <th>7</th>\n",
       "      <td>17774.84</td>\n",
       "      <td>2</td>\n",
       "    </tr>\n",
       "    <tr>\n",
       "      <th>8</th>\n",
       "      <td>70.20</td>\n",
       "      <td>2</td>\n",
       "    </tr>\n",
       "    <tr>\n",
       "      <th>9</th>\n",
       "      <td>537149.56</td>\n",
       "      <td>2</td>\n",
       "    </tr>\n",
       "  </tbody>\n",
       "</table>\n",
       "</div>"
      ],
      "text/plain": [
       "         Count  count\n",
       "0         0.00      7\n",
       "1  15912000.00      4\n",
       "2       319.00      3\n",
       "3         0.36      3\n",
       "4   7036800.00      3\n",
       "5      6786.00      2\n",
       "6      5717.60      2\n",
       "7     17774.84      2\n",
       "8        70.20      2\n",
       "9    537149.56      2"
      ]
     },
     "execution_count": 80,
     "metadata": {},
     "output_type": "execute_result"
    }
   ],
   "source": [
    "# Number of unique Net Mass\n",
    "column = \"Item Price\"\n",
    "print(f'Number of unique {column} : ', df[column].nunique())\n",
    "\n",
    "# Frequent Net Mass\n",
    "pd.DataFrame(df[column].value_counts().reset_index()).rename(columns={'index':column, column:'Count'}).head(10)"
   ]
  },
  {
   "cell_type": "code",
   "execution_count": 81,
   "id": "ffcfcb7e",
   "metadata": {
    "colab": {
     "base_uri": "https://localhost:8080/",
     "height": 611
    },
    "executionInfo": {
     "elapsed": 1297,
     "status": "ok",
     "timestamp": 1732980645955,
     "user": {
      "displayName": "章晗",
      "userId": "00029064363224532145"
     },
     "user_tz": -480
    },
    "id": "ffcfcb7e",
    "outputId": "f0a82421-a37c-4c89-e0bb-fa53d4f665b1"
   },
   "outputs": [
    {
     "data": {
      "image/png": "[encoded data removed]",
      "text/plain": [
       "<Figure size 1100x600 with 1 Axes>"
      ]
     },
     "metadata": {},
     "output_type": "display_data"
    }
   ],
   "source": [
    "# Distribution of Item Price\n",
    "sns.displot(df[column]+1, color='#A0CBE8', kind='hist', log_scale=True, edgecolor='1', kde = True,\n",
    "           height=6, aspect=11/6).set_axis_labels(f\"{column}(log scale)\", \"Count\", fontsize=13)\n",
    "plt.savefig('ItemPrice.pdf', bbox_inches='tight')"
   ]
  },
  {
   "cell_type": "markdown",
   "id": "164254ea",
   "metadata": {
    "id": "164254ea"
   },
   "source": [
    "### 19. Fraud\n",
    "The customs office inspects suspicious items.  As a result of the inspection, *Fraud*(有无风险) indicates if there exists any error in the declaration. **0** means the declaration passed the inspection, and **1** means it did not."
   ]
  },
  {
   "cell_type": "code",
   "execution_count": 82,
   "id": "84e422de",
   "metadata": {
    "colab": {
     "base_uri": "https://localhost:8080/",
     "height": 112
    },
    "executionInfo": {
     "elapsed": 665,
     "status": "ok",
     "timestamp": 1732980668746,
     "user": {
      "displayName": "章晗",
      "userId": "00029064363224532145"
     },
     "user_tz": -480
    },
    "id": "84e422de",
    "outputId": "5c41adf4-19f1-4b48-e855-2753eb88aed6",
    "scrolled": true
   },
   "outputs": [
    {
     "data": {
      "text/html": [
       "<div>\n",
       "<style scoped>\n",
       "    .dataframe tbody tr th:only-of-type {\n",
       "        vertical-align: middle;\n",
       "    }\n",
       "\n",
       "    .dataframe tbody tr th {\n",
       "        vertical-align: top;\n",
       "    }\n",
       "\n",
       "    .dataframe thead th {\n",
       "        text-align: right;\n",
       "    }\n",
       "</style>\n",
       "<table border=\"1\" class=\"dataframe\">\n",
       "  <thead>\n",
       "    <tr style=\"text-align: right;\">\n",
       "      <th></th>\n",
       "      <th>Count</th>\n",
       "      <th>count</th>\n",
       "    </tr>\n",
       "  </thead>\n",
       "  <tbody>\n",
       "    <tr>\n",
       "      <th>0</th>\n",
       "      <td>0</td>\n",
       "      <td>710</td>\n",
       "    </tr>\n",
       "    <tr>\n",
       "      <th>1</th>\n",
       "      <td>1</td>\n",
       "      <td>244</td>\n",
       "    </tr>\n",
       "  </tbody>\n",
       "</table>\n",
       "</div>"
      ],
      "text/plain": [
       "  Count  count\n",
       "0     0    710\n",
       "1     1    244"
      ]
     },
     "execution_count": 82,
     "metadata": {},
     "output_type": "execute_result"
    }
   ],
   "source": [
    "column='Fraud'\n",
    "\n",
    "# Number of normal and illicit declarations\n",
    "pd.DataFrame(df[column].value_counts().reset_index()).rename(columns={'index':column, column:'Count'}).head(10)"
   ]
  },
  {
   "cell_type": "markdown",
   "id": "a81c0644",
   "metadata": {
    "id": "a81c0644"
   },
   "source": [
    "### 20. Critical Fraud\n",
    "*Critical Fraud*(严重风险) indicates the type of fraud depending on the severity. **0** means the declaration passed the inspection, as same as the *Fraud* column. **1** means a minor error, while **2** refers to some critical violation of the law such as tax evasion or insafe items."
   ]
  },
  {
   "cell_type": "code",
   "execution_count": 83,
   "id": "c2de7dd4",
   "metadata": {
    "colab": {
     "base_uri": "https://localhost:8080/",
     "height": 143
    },
    "executionInfo": {
     "elapsed": 522,
     "status": "ok",
     "timestamp": 1732980729436,
     "user": {
      "displayName": "章晗",
      "userId": "00029064363224532145"
     },
     "user_tz": -480
    },
    "id": "c2de7dd4",
    "outputId": "4eafa510-b592-41b2-d4be-f918b1d96a1c",
    "scrolled": true
   },
   "outputs": [
    {
     "data": {
      "text/html": [
       "<div>\n",
       "<style scoped>\n",
       "    .dataframe tbody tr th:only-of-type {\n",
       "        vertical-align: middle;\n",
       "    }\n",
       "\n",
       "    .dataframe tbody tr th {\n",
       "        vertical-align: top;\n",
       "    }\n",
       "\n",
       "    .dataframe thead th {\n",
       "        text-align: right;\n",
       "    }\n",
       "</style>\n",
       "<table border=\"1\" class=\"dataframe\">\n",
       "  <thead>\n",
       "    <tr style=\"text-align: right;\">\n",
       "      <th></th>\n",
       "      <th>Count</th>\n",
       "      <th>count</th>\n",
       "    </tr>\n",
       "  </thead>\n",
       "  <tbody>\n",
       "    <tr>\n",
       "      <th>0</th>\n",
       "      <td>0</td>\n",
       "      <td>710</td>\n",
       "    </tr>\n",
       "    <tr>\n",
       "      <th>1</th>\n",
       "      <td>1</td>\n",
       "      <td>232</td>\n",
       "    </tr>\n",
       "    <tr>\n",
       "      <th>2</th>\n",
       "      <td>2</td>\n",
       "      <td>12</td>\n",
       "    </tr>\n",
       "  </tbody>\n",
       "</table>\n",
       "</div>"
      ],
      "text/plain": [
       "  Count  count\n",
       "0     0    710\n",
       "1     1    232\n",
       "2     2     12"
      ]
     },
     "execution_count": 83,
     "metadata": {},
     "output_type": "execute_result"
    }
   ],
   "source": [
    "column='Critical Fraud'\n",
    "\n",
    "# Number of each fraud\n",
    "pd.DataFrame(df[column].value_counts().reset_index()).rename(columns={'index':column, column:'Count'}).head(10)"
   ]
  },
  {
   "cell_type": "code",
   "execution_count": 94,
   "id": "a726d38f",
   "metadata": {},
   "outputs": [
    {
     "name": "stdout",
     "output_type": "stream",
     "text": [
      "Index(['Declaration ID', 'Date', 'Office ID', 'Process Type', 'Import Type',\n",
      "       'Import Use', 'Payment Type', 'Mode of Transport', 'Declarant ID',\n",
      "       'Importer ID', 'Seller ID', 'Courier ID', 'HS6 Code',\n",
      "       'Country of Departure', 'Country of Origin', 'Tax Rate', 'Tax Type',\n",
      "       'Country of Origin Indicator', 'Net Mass', 'Item Price', 'Fraud',\n",
      "       'Critical Fraud'],\n",
      "      dtype='object')\n"
     ]
    },
    {
     "data": {
      "image/png": "[encoded data removed]",
      "text/plain": [
       "<Figure size 1000x500 with 1 Axes>"
      ]
     },
     "metadata": {},
     "output_type": "display_data"
    }
   ],
   "source": [
    "import pandas as pd\n",
    "import numpy as np\n",
    "import matplotlib.pyplot as plt\n",
    "import matplotlib\n",
    "\n",
    "# 读取数据集\n",
    "df1 = pd.read_excel(\"type15-data.xlsx\")\n",
    "\n",
    "# 打印数据集的列名\n",
    "print(df1.columns)\n",
    "\n",
    "# 按照 Import Use 和 Payment Type 分组统计数量\n",
    "gb_df = df1.groupby([\"Import Use\", \"Payment Type\"]).size().reset_index(name=\"counts\")\n",
    "\n",
    "# 按照 Import Use、Payment Type 和 counts 排序\n",
    "gb_df.sort_values([\"Import Use\", \"Payment Type\", \"counts\"], ascending=True, inplace=True)\n",
    "\n",
    "# 为每个 Import Use(C17) 分组分配一个颜色\n",
    "colors = {i: np.random.random(3,) for i in sorted(list(gb_df[\"Import Use\"].unique()))}\n",
    "\n",
    "# 创建图形\n",
    "fig = plt.figure(figsize=(10, 5))\n",
    "ax = fig.add_subplot()\n",
    "\n",
    "# 遍历每个 Import Use 分组并绘制散点图\n",
    "for x in sorted(list(gb_df[\"Import Use\"].unique())):\n",
    "    x_values = gb_df[gb_df[\"Import Use\"] == x][\"Import Use\"]\n",
    "    y_values = gb_df[gb_df[\"Import Use\"] == x][\"Payment Type\"]\n",
    "    size = gb_df[gb_df[\"Import Use\"] == x][\"counts\"]\n",
    "    color = matplotlib.colors.rgb2hex(colors[x])\n",
    "    ax.scatter(x_values, y_values, s=size * 10, c=color)\n",
    "\n",
    "ax.set_title(\"Counts plot\")\n",
    "plt.xlabel(\"Import Use\")\n",
    "plt.ylabel(\"Payment Type\")\n",
    "plt.grid()\n",
    "plt.show()"
   ]
  },
  {
   "cell_type": "code",
   "execution_count": 96,
   "id": "3276c220",
   "metadata": {},
   "outputs": [
    {
     "data": {
      "image/png": "[encoded data removed]",
      "text/plain": [
       "<Figure size 1000x500 with 1 Axes>"
      ]
     },
     "metadata": {},
     "output_type": "display_data"
    }
   ],
   "source": [
    "import pandas as pd\n",
    "from wordcloud import WordCloud\n",
    "import matplotlib.pyplot as plt\n",
    "\n",
    "# 读取数据集\n",
    "df1 = pd.read_excel(\"type15-data.xlsx\")\n",
    "\n",
    "# 统计每个国家的出现次数\n",
    "country_counts = df1[\"Country of Origin\"].value_counts().to_dict()\n",
    "\n",
    "# 生成词云图\n",
    "wordcloud = WordCloud(\n",
    "    width=800,\n",
    "    height=400,\n",
    "    background_color=\"white\",\n",
    "    max_words=100,\n",
    "    max_font_size=100\n",
    ").generate_from_frequencies(country_counts)\n",
    "\n",
    "# 绘制词云图\n",
    "plt.figure(figsize=(10, 5))\n",
    "plt.imshow(wordcloud, interpolation=\"bilinear\")\n",
    "plt.axis(\"off\")\n",
    "plt.title(\"Country of Origin Word Cloud\")\n",
    "plt.show()"
   ]
  },
  {
   "cell_type": "code",
   "execution_count": 97,
   "id": "4a9fb2bd",
   "metadata": {},
   "outputs": [
    {
     "data": {
      "image/png": "[encoded data removed]",
      "text/plain": [
       "<Figure size 1200x800 with 4 Axes>"
      ]
     },
     "metadata": {},
     "output_type": "display_data"
    }
   ],
   "source": [
    "import pandas as pd\n",
    "import numpy as np\n",
    "import matplotlib.pyplot as plt\n",
    "import matplotlib\n",
    "\n",
    "# 读取数据集\n",
    "df1 = pd.read_excel(\"type15-data.xlsx\")\n",
    "\n",
    "# 创建图形\n",
    "fig = plt.figure(figsize=(12, 8))\n",
    "\n",
    "# 使用 GridSpec 创建布局\n",
    "gs = fig.add_gridspec(5, 5)\n",
    "ax1 = fig.add_subplot(gs[:4, :-1])  # 主散点图\n",
    "ax2 = fig.add_subplot(gs[4:, :-1])  # 底部边际直方图\n",
    "ax3 = fig.add_subplot(gs[:4, -1])   # 右侧边际直方图\n",
    "\n",
    "# 数据准备\n",
    "x = df1[\"Import Use\"]\n",
    "y = df1[\"Payment Type\"]\n",
    "colors = df1[\"Mode of Transport\"].astype('category').cat.codes  # 颜色基于运输方式\n",
    "markers = df1[\"Country of Origin\"].astype('category').cat.codes  # 标记基于原产国\n",
    "\n",
    "# 主散点图\n",
    "scatter = ax1.scatter(x, y, c=colors, cmap='viridis', alpha=0.6)\n",
    "\n",
    "# 设置主图的标签和标题\n",
    "ax1.set_xlabel(\"Import Use\")\n",
    "ax1.set_ylabel(\"Payment Type\")\n",
    "ax1.set_title(\"Scatter plot with marginal histograms\")\n",
    "\n",
    "# 底部边际直方图\n",
    "ax2.hist(x, bins=20, color='pink', edgecolor='black')\n",
    "ax2.invert_yaxis()\n",
    "ax2.axis('off')\n",
    "\n",
    "# 右侧边际直方图\n",
    "ax3.hist(y, bins=20, orientation='horizontal', color='pink', edgecolor='black')\n",
    "ax3.axis('off')\n",
    "\n",
    "# 调整布局\n",
    "fig.tight_layout()\n",
    "\n",
    "# 添加颜色图例\n",
    "cbar = fig.colorbar(scatter, ax=ax1)\n",
    "cbar.set_label('Mode of Transport')\n",
    "\n",
    "# 显示图形\n",
    "plt.show()"
   ]
  },
  {
   "cell_type": "code",
   "execution_count": null,
   "id": "0457c15f",
   "metadata": {},
   "outputs": [
    {
     "data": {
      "image/png": "[encoded data removed]",
      "text/plain": [
       "<Figure size 1400x800 with 2 Axes>"
      ]
     },
     "metadata": {},
     "output_type": "display_data"
    }
   ],
   "source": [
    "import pandas as pd\n",
    "import numpy as np\n",
    "import seaborn as sns\n",
    "import matplotlib.pyplot as plt\n",
    "\n",
    "# 读取数据集\n",
    "df1 = pd.read_excel(\"type15-data.xlsx\")\n",
    "\n",
    "# 选择所有数值型变量\n",
    "df2 = df1.select_dtypes(include=np.number)\n",
    "\n",
    "# 计算相关性矩阵\n",
    "corr = df2.corr()\n",
    "\n",
    "# 创建掩码以只显示下三角部分\n",
    "mask = np.zeros_like(corr)\n",
    "mask[np.triu_indices_from(mask)] = True\n",
    "\n",
    "# 创建图形\n",
    "fig = plt.figure(figsize=(14, 8))\n",
    "\n",
    "# 使用 seaborn 绘制热力图\n",
    "ax = sns.heatmap(corr,\n",
    "                 mask=mask,\n",
    "                 vmax=0.3,\n",
    "                 square=True,\n",
    "                 cmap=\"viridis\")\n",
    "\n",
    "# 设置图形标题\n",
    "ax.set_title(\"Heatmap of All Numerical Variables\")\n",
    "plt.grid()\n",
    "\n",
    "# 显示图形\n",
    "plt.show()"
   ]
  },
  {
   "cell_type": "code",
   "execution_count": 108,
   "id": "809abf95",
   "metadata": {},
   "outputs": [
    {
     "data": {
      "image/png": "[encoded data removed]",
      "text/plain": [
       "<Figure size 1200x800 with 1 Axes>"
      ]
     },
     "metadata": {},
     "output_type": "display_data"
    }
   ],
   "source": [
    "import pandas as pd\n",
    "import matplotlib.pyplot as plt\n",
    "import numpy as np\n",
    "\n",
    "# 读取数据集\n",
    "df1 = pd.read_excel(\"type15-data.xlsx\")\n",
    "\n",
    "# 数据预处理\n",
    "df1['Date'] = pd.to_datetime(df1['Date']).dt.date\n",
    "df1['Mode of Transport'] = df1['Mode of Transport'].astype(str)\n",
    "\n",
    "# 按运输方式和日期分组，计算净质量的平均值\n",
    "pivot_df = df1.groupby(['Mode of Transport', 'Date'])['Net Mass'].mean().unstack().reset_index()\n",
    "\n",
    "# 创建图形\n",
    "plt.figure(figsize=(12, 8))\n",
    "\n",
    "# 绘制每条运输方式的折线图\n",
    "for i in range(len(pivot_df)):\n",
    "    transport = pivot_df.iloc[i]['Mode of Transport']\n",
    "    values = pivot_df.iloc[i][1:].values.astype(float)\n",
    "    dates = pivot_df.columns[1:]\n",
    "    plt.plot(dates, values, marker='o', label=transport)\n",
    "\n",
    "# 设置坐标轴标签和标题\n",
    "plt.xlabel(\"Date\")\n",
    "plt.ylabel(\"Net Mass\")\n",
    "plt.title(\"Net Mass Trend Over Time by Mode of Transport\")\n",
    "\n",
    "# 添加图例\n",
    "plt.legend(title=\"Mode of Transport\", bbox_to_anchor=(1.05, 1), loc='upper left')\n",
    "\n",
    "# 调整布局\n",
    "plt.tight_layout()\n",
    "\n",
    "# 显示网格\n",
    "plt.grid(True)\n",
    "\n",
    "# 显示图形\n",
    "plt.show()"
   ]
  },
  {
   "cell_type": "code",
   "execution_count": null,
   "id": "08c073c2",
   "metadata": {},
   "outputs": [],
   "source": []
  }
 ],
 "metadata": {
  "colab": {
   "provenance": []
  },
  "kernelspec": {
   "display_name": "Python 3",
   "language": "python",
   "name": "python3"
  },
  "language_info": {
   "codemirror_mode": {
    "name": "ipython",
    "version": 3
   },
   "file_extension": ".py",
   "mimetype": "text/x-python",
   "name": "python",
   "nbconvert_exporter": "python",
   "pygments_lexer": "ipython3",
   "version": "3.13.2"
  }
 },
 "nbformat": 4,
 "nbformat_minor": 5
}
