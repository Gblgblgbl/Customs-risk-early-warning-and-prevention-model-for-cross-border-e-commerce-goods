{
  "nbformat": 4,
  "nbformat_minor": 0,
  "metadata": {
    "colab": {
      "provenance": []
    },
    "kernelspec": {
      "name": "python3",
      "display_name": "Python 3"
    },
    "language_info": {
      "name": "python"
    }
  },
  "cells": [
    {
      "cell_type": "code",
      "execution_count": null,
      "metadata": {
        "id": "ZTRf8l8G95nv"
      },
      "outputs": [],
      "source": [
        "import pandas as pd\n",
        "import numpy as np\n",
        "import math\n",
        "from numpy import array\n",
        "import matplotlib.pyplot as plt"
      ]
    },
    {
      "cell_type": "code",
      "source": [
        "# Original data\n",
        "data = np.array([\n",
        "    [61.0, 66.0, 62.0, 61.0, 82.0, 81.0, 70.0, 70.0, 78.0, 78.0, 79.0, 50.0, 52.0],\n",
        "    [60.0, 63.0, 62.0, 62.0, 62.0, 69.0, 61.0, 74.0, 88.0, 77.0, 86.0, 72.0, 64.0],\n",
        "    [62.0, 69.0, 65.0, 62.0, 69.0, 68.0, 63.0, 60.0, 75.0, 66.0, 75.0, 62.0, 63.0],\n",
        "    [80.0, 68.0, 82.0, 61.0, 66.0, 85.0, 83.0, 81.0, 69.0, 88.0, 69.0, 60.0, 66.0],\n",
        "    [220.0, 4953.5, 6048.2, 62.9, 0.6, 7715.0, 0.7, 36.1, 79.5, 238.0, 6.0, 17920.0, 3.8],\n",
        "    [71.0, 76.0, 71.0, 48.0, 68.0, 67.0, 71.0, 72.0, 79.0, 77.0, 76.0, 43.0, 70.0],\n",
        "    [40.0, 77.0, 44.0, 70.0, 68.0, 96.0, 66.0, 65.0, 95.0, 74.0, 77.0, 43.0, 60.0],\n",
        "    [42.0, 86.0, 43.0, 55.0, 87.0, 84.0, 51.0, 53.0, 89.0, 85.0, 89.0, 51.0, 51.0],\n",
        "    [53.0, 88.0, 68.0, 50.0, 89.0, 88.0, 52.0, 54.0, 85.0, 89.0, 69.0, 52.0, 55.0],\n",
        "    [13.0, 0.0, 0.0, 13.0, 0.0, 8.0, 0.0, 8.0, 0.0, 0.0, 6.5, 27.0, 8.0],\n",
        "    [71.0, 100.0, 73.0, 71.0, 85.0, 79.0, 73.0, 70.0, 100.0, 88.0, 76.0, 71.0, 70.0],\n",
        "    [30866.00004, 1676760.0, 7275.84, 5837.12, 1116.06, 20059.0, 63.84, 350.17, 1240.2, 51884.0, 45.6, 5254144.0, 162.64],\n",
        "    [63.0, 66.0, 65.0, 64.0, 64.0, 66.0, 64.0, 51.0, 66.0, 65.0, 69.0, 60.0, 61.0],\n",
        "    [62.0, 78.0, 64.0, 68.0, 87.0, 73.0, 66.0, 60.0, 94.0, 97.0, 87.0, 61.0, 64.0],\n",
        "    [80.0, 62.0, 90.0, 52.0, 55.0, 87.0, 81.0, 60.0, 75.0, 68.0, 79.0, 60.0, 65.0],\n",
        "    [60.0, 79.0, 82.0, 62.0, 69.0, 65.0, 63.0, 65.0, 66.0, 89.0, 88.0, 65.0, 72.0],\n",
        "    [60.0, 67.0, 66.0, 62.0, 68.0, 62.0, 65.0, 62.0, 61.0, 69.0, 64.0, 60.0, 61.0]\n",
        "])"
      ],
      "metadata": {
        "id": "1ugRTZ2CHwLw"
      },
      "execution_count": null,
      "outputs": []
    },
    {
      "cell_type": "code",
      "source": [
        "def standardize_column(row, mode=\"max\"):\n",
        "    row = np.array(row, dtype=float)\n",
        "    if mode == \"max\":\n",
        "        return (row - row.min()) / (row.max() - row.min())\n",
        "    elif mode == \"min\":\n",
        "        return (row.max() - row) / (row.max() - row.min())\n",
        "    else:\n",
        "        raise ValueError(\"Mode must be 'max' or 'min'.\")"
      ],
      "metadata": {
        "id": "08zXAbC2l7qX"
      },
      "execution_count": null,
      "outputs": []
    },
    {
      "cell_type": "code",
      "source": [
        "def calculate_entropy(row):\n",
        "    row = np.array(row, dtype=float)\n",
        "    probabilities = row / row.sum()\n",
        "    probabilities = probabilities[probabilities > 0]  # Avoid log(0)\n",
        "    return -np.sum(probabilities * np.log(probabilities))"
      ],
      "metadata": {
        "id": "qX-vbFNqlz6u"
      },
      "execution_count": null,
      "outputs": []
    },
    {
      "cell_type": "code",
      "source": [
        "# Transpose the data to make rows represent features转置数据\n",
        "data_transposed = np.array(data).T\n",
        "\n",
        "# Initialize standardized data初始化标准化数据\n",
        "standardized_data_by_row = np.zeros_like(data_transposed)\n",
        "\n",
        "# Apply standardization row-wise逐行应用标准化\n",
        "for i, row in enumerate(data_transposed):\n",
        "    if i == 4:  # Fifth row (now feature 5): minimize\n",
        "        standardized_data_by_row[i] = standardize_column(row, mode=\"min\")\n",
        "    else:  # Other rows: maximize\n",
        "        standardized_data_by_row[i] = standardize_column(row, mode=\"max\")\n",
        "\n",
        "# Transpose back to original structure (features in rows)转置回原始结构\n",
        "standardized_data_by_row = standardized_data_by_row.T\n",
        "\n",
        "# Recalculate entropy for each row (now features)重新计算每行（现在是特征）的熵值\n",
        "rechecked_entropies_by_row = np.array([calculate_entropy(row) for row in standardized_data_by_row])\n",
        "\n",
        "# Normalize entropies so they sum to 1归一化熵值使其总和为1\n",
        "normalized_entropies_by_row = rechecked_entropies_by_row / rechecked_entropies_by_row.sum()"
      ],
      "metadata": {
        "id": "AiXJyHGCJPiP"
      },
      "execution_count": null,
      "outputs": []
    },
    {
      "cell_type": "code",
      "source": [
        "rechecked_entropies_by_row"
      ],
      "metadata": {
        "id": "m7AenRKBmiPI",
        "outputId": "186e61ac-f337-4fe9-b9c0-749c5a2070e6",
        "colab": {
          "base_uri": "https://localhost:8080/"
        }
      },
      "execution_count": null,
      "outputs": [
        {
          "output_type": "execute_result",
          "data": {
            "text/plain": [
              "array([1.57118794, 1.59168976, 1.57854349, 1.5921362 , 1.32410475,\n",
              "       1.59441674, 1.58788919, 1.54101037, 1.57956106, 0.15481391,\n",
              "       1.61013041, 2.46938038, 1.56157745, 1.57955807, 1.56510734,\n",
              "       1.57731717, 1.57597246])"
            ]
          },
          "metadata": {},
          "execution_count": 6
        }
      ]
    },
    {
      "cell_type": "code",
      "source": [
        "normalized_entropies_by_row"
      ],
      "metadata": {
        "colab": {
          "base_uri": "https://localhost:8080/"
        },
        "id": "cvljxuuaL5dn",
        "outputId": "abb2cb45-290d-4151-d16a-363daa367fe7"
      },
      "execution_count": null,
      "outputs": [
        {
          "output_type": "execute_result",
          "data": {
            "text/plain": [
              "array([0.06030414, 0.06109102, 0.06058645, 0.06110816, 0.05082078,\n",
              "       0.06119569, 0.06094515, 0.05914589, 0.06062551, 0.00594195,\n",
              "       0.0617988 , 0.09477788, 0.05993528, 0.06062539, 0.06007076,\n",
              "       0.06053939, 0.06048777])"
            ]
          },
          "metadata": {},
          "execution_count": 7
        }
      ]
    }
  ]
}