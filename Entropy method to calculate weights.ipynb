{
 "cells": [
  {
   "cell_type": "code",
   "execution_count": 119,
   "metadata": {
    "executionInfo": {
     "elapsed": 455,
     "status": "ok",
     "timestamp": 1734812626708,
     "user": {
      "displayName": "章晗",
      "userId": "00029064363224532145"
     },
     "user_tz": -480
    },
    "id": "ZTRf8l8G95nv"
   },
   "outputs": [],
   "source": [
    "import pandas as pd\n",
    "import numpy as np\n",
    "import math\n",
    "from numpy import array\n",
    "import matplotlib.pyplot as plt"
   ]
  },
  {
   "cell_type": "code",
   "execution_count": 120,
   "metadata": {
    "executionInfo": {
     "elapsed": 179,
     "status": "ok",
     "timestamp": 1734812845220,
     "user": {
      "displayName": "章晗",
      "userId": "00029064363224532145"
     },
     "user_tz": -480
    },
    "id": "1ugRTZ2CHwLw"
   },
   "outputs": [],
   "source": [
    "# Original data\n",
    "data = np.array([\n",
    "    [61.0, 66.0, 62.0, 61.0, 82.0, 81.0, 70.0, 70.0, 78.0, 78.0, 79.0, 50.0, 52.0],\n",
    "    [60.0, 63.0, 62.0, 62.0, 62.0, 69.0, 61.0, 74.0, 88.0, 77.0, 86.0, 72.0, 64.0],\n",
    "    [62.0, 69.0, 65.0, 62.0, 69.0, 68.0, 63.0, 60.0, 75.0, 66.0, 75.0, 62.0, 63.0],\n",
    "    [80.0, 68.0, 82.0, 61.0, 66.0, 85.0, 83.0, 81.0, 69.0, 88.0, 69.0, 60.0, 66.0],\n",
    "    [220.0, 4953.5, 6048.2, 62.9, 0.6, 7715.0, 0.7, 36.1, 79.5, 238.0, 6.0, 17920.0, 3.8],\n",
    "    [71.0, 76.0, 71.0, 48.0, 68.0, 67.0, 71.0, 72.0, 79.0, 77.0, 76.0, 43.0, 70.0],\n",
    "    [40.0, 77.0, 44.0, 70.0, 68.0, 96.0, 66.0, 65.0, 95.0, 74.0, 77.0, 43.0, 60.0],\n",
    "    [42.0, 86.0, 43.0, 55.0, 87.0, 84.0, 51.0, 53.0, 89.0, 85.0, 89.0, 51.0, 51.0],\n",
    "    [53.0, 88.0, 68.0, 50.0, 89.0, 88.0, 52.0, 54.0, 85.0, 89.0, 69.0, 52.0, 55.0],\n",
    "    [13.0, 0.0, 0.0, 13.0, 0.0, 8.0, 0.0, 8.0, 0.0, 0.0, 6.5, 27.0, 8.0],\n",
    "    [71.0, 100.0, 73.0, 71.0, 85.0, 79.0, 73.0, 70.0, 100.0, 88.0, 76.0, 71.0, 70.0],\n",
    "    [30866.00004, 1676760.0, 7275.84, 5837.12, 1116.06, 20059.0, 63.84, 350.17, 1240.2, 51884.0, 45.6, 5254144.0, 162.64],\n",
    "    [63.0, 66.0, 65.0, 64.0, 64.0, 66.0, 64.0, 51.0, 66.0, 65.0, 69.0, 60.0, 61.0],\n",
    "    [62.0, 78.0, 64.0, 68.0, 87.0, 73.0, 66.0, 60.0, 94.0, 97.0, 87.0, 61.0, 64.0],\n",
    "    [80.0, 62.0, 90.0, 52.0, 55.0, 87.0, 81.0, 60.0, 75.0, 68.0, 79.0, 60.0, 65.0],\n",
    "    [60.0, 79.0, 82.0, 62.0, 69.0, 65.0, 63.0, 65.0, 66.0, 89.0, 88.0, 65.0, 72.0],\n",
    "    [60.0, 67.0, 66.0, 62.0, 68.0, 62.0, 65.0, 62.0, 61.0, 69.0, 64.0, 60.0, 61.0]\n",
    "])"
   ]
  },
  {
   "cell_type": "code",
   "execution_count": 121,
   "metadata": {
    "executionInfo": {
     "elapsed": 209,
     "status": "ok",
     "timestamp": 1734812848214,
     "user": {
      "displayName": "章晗",
      "userId": "00029064363224532145"
     },
     "user_tz": -480
    },
    "id": "08zXAbC2l7qX"
   },
   "outputs": [],
   "source": [
    "def standardize_column(row, mode=\"max\"):\n",
    "    row = np.array(row, dtype=float)\n",
    "    if mode == \"max\":\n",
    "        return (row - row.min()) / (row.max() - row.min())\n",
    "    elif mode == \"min\":\n",
    "        return (row.max() - row) / (row.max() - row.min())\n",
    "    else:\n",
    "        raise ValueError(\"Mode must be 'max' or 'min'.\")"
   ]
  },
  {
   "cell_type": "code",
   "execution_count": 122,
   "metadata": {
    "executionInfo": {
     "elapsed": 283,
     "status": "ok",
     "timestamp": 1734812849715,
     "user": {
      "displayName": "章晗",
      "userId": "00029064363224532145"
     },
     "user_tz": -480
    },
    "id": "qX-vbFNqlz6u"
   },
   "outputs": [],
   "source": [
    "def calculate_entropy(row):\n",
    "    row = np.array(row, dtype=float)\n",
    "    probabilities = row / row.sum()\n",
    "    probabilities = probabilities[probabilities > 0]  # Avoid log(0)\n",
    "    return -np.sum(probabilities * np.log(probabilities))"
   ]
  },
  {
   "cell_type": "code",
   "execution_count": 123,
   "metadata": {
    "executionInfo": {
     "elapsed": 169,
     "status": "ok",
     "timestamp": 1734812851105,
     "user": {
      "displayName": "章晗",
      "userId": "00029064363224532145"
     },
     "user_tz": -480
    },
    "id": "AiXJyHGCJPiP"
   },
   "outputs": [],
   "source": [
    "# Transpose the data to make rows represent features转置数据\n",
    "data_transposed = np.array(data).T\n",
    "\n",
    "# Initialize standardized data初始化标准化数据\n",
    "standardized_data_by_row = np.zeros_like(data_transposed)\n",
    "\n",
    "# Apply standardization row-wise逐行应用标准化\n",
    "for i, row in enumerate(data_transposed):\n",
    "    if i == 4:  # Fifth row (now feature 5): minimize\n",
    "        standardized_data_by_row[i] = standardize_column(row, mode=\"min\")\n",
    "    else:  # Other rows: maximize\n",
    "        standardized_data_by_row[i] = standardize_column(row, mode=\"max\")\n",
    "\n",
    "# Transpose back to original structure (features in rows)转置回原始结构\n",
    "standardized_data_by_row = standardized_data_by_row.T\n",
    "\n",
    "# Recalculate entropy for each row (now features)重新计算每行（现在是特征）的熵值\n",
    "rechecked_entropies_by_row = np.array([calculate_entropy(row) for row in standardized_data_by_row])\n",
    "\n",
    "# Normalize entropies so they sum to 1归一化熵值使其总和为1\n",
    "normalized_entropies_by_row = rechecked_entropies_by_row / rechecked_entropies_by_row.sum()"
   ]
  },
  {
   "cell_type": "code",
   "execution_count": 124,
   "metadata": {
    "colab": {
     "base_uri": "https://localhost:8080/"
    },
    "executionInfo": {
     "elapsed": 179,
     "status": "ok",
     "timestamp": 1734812854829,
     "user": {
      "displayName": "章晗",
      "userId": "00029064363224532145"
     },
     "user_tz": -480
    },
    "id": "m7AenRKBmiPI",
    "outputId": "186e61ac-f337-4fe9-b9c0-749c5a2070e6"
   },
   "outputs": [
    {
     "data": {
      "text/plain": [
       "array([1.57118794, 1.59168976, 1.57854349, 1.5921362 , 1.32410475,\n",
       "       1.59441674, 1.58788919, 1.54101037, 1.57956106, 0.15481391,\n",
       "       1.61013041, 2.46938038, 1.56157745, 1.57955807, 1.56510734,\n",
       "       1.57731717, 1.57597246])"
      ]
     },
     "execution_count": 124,
     "metadata": {},
     "output_type": "execute_result"
    }
   ],
   "source": [
    "rechecked_entropies_by_row"
   ]
  },
  {
   "cell_type": "code",
   "execution_count": 125,
   "metadata": {
    "colab": {
     "base_uri": "https://localhost:8080/"
    },
    "executionInfo": {
     "elapsed": 175,
     "status": "ok",
     "timestamp": 1734812856710,
     "user": {
      "displayName": "章晗",
      "userId": "00029064363224532145"
     },
     "user_tz": -480
    },
    "id": "cvljxuuaL5dn",
    "outputId": "abb2cb45-290d-4151-d16a-363daa367fe7"
   },
   "outputs": [
    {
     "data": {
      "text/plain": [
       "array([0.06030414, 0.06109102, 0.06058645, 0.06110816, 0.05082078,\n",
       "       0.06119569, 0.06094515, 0.05914589, 0.06062551, 0.00594195,\n",
       "       0.0617988 , 0.09477788, 0.05993528, 0.06062539, 0.06007076,\n",
       "       0.06053939, 0.06048777])"
      ]
     },
     "execution_count": 125,
     "metadata": {},
     "output_type": "execute_result"
    }
   ],
   "source": [
    "normalized_entropies_by_row"
   ]
  },
  {
   "cell_type": "code",
   "execution_count": 126,
   "metadata": {},
   "outputs": [
    {
     "data": {
      "text/html": [
       "<div>\n",
       "<style scoped>\n",
       "    .dataframe tbody tr th:only-of-type {\n",
       "        vertical-align: middle;\n",
       "    }\n",
       "\n",
       "    .dataframe tbody tr th {\n",
       "        vertical-align: top;\n",
       "    }\n",
       "\n",
       "    .dataframe thead th {\n",
       "        text-align: right;\n",
       "    }\n",
       "</style>\n",
       "<table border=\"1\" class=\"dataframe\">\n",
       "  <thead>\n",
       "    <tr style=\"text-align: right;\">\n",
       "      <th></th>\n",
       "      <th>0</th>\n",
       "      <th>1</th>\n",
       "      <th>2</th>\n",
       "      <th>3</th>\n",
       "      <th>4</th>\n",
       "      <th>5</th>\n",
       "      <th>6</th>\n",
       "      <th>7</th>\n",
       "      <th>8</th>\n",
       "      <th>9</th>\n",
       "      <th>10</th>\n",
       "      <th>11</th>\n",
       "      <th>12</th>\n",
       "      <th>13</th>\n",
       "      <th>14</th>\n",
       "      <th>15</th>\n",
       "      <th>16</th>\n",
       "    </tr>\n",
       "  </thead>\n",
       "  <tbody>\n",
       "    <tr>\n",
       "      <th>0</th>\n",
       "      <td>61.000000</td>\n",
       "      <td>60.000000</td>\n",
       "      <td>62.000000</td>\n",
       "      <td>80.000000</td>\n",
       "      <td>220.0</td>\n",
       "      <td>71.000000</td>\n",
       "      <td>40.000000</td>\n",
       "      <td>42.000000</td>\n",
       "      <td>53.000000</td>\n",
       "      <td>13.0</td>\n",
       "      <td>71.000000</td>\n",
       "      <td>3.086600e+04</td>\n",
       "      <td>63.000000</td>\n",
       "      <td>62.000000</td>\n",
       "      <td>80.000000</td>\n",
       "      <td>60.000000</td>\n",
       "      <td>60.000000</td>\n",
       "    </tr>\n",
       "    <tr>\n",
       "      <th>1</th>\n",
       "      <td>66.000000</td>\n",
       "      <td>63.000000</td>\n",
       "      <td>69.000000</td>\n",
       "      <td>68.000000</td>\n",
       "      <td>4953.5</td>\n",
       "      <td>76.000000</td>\n",
       "      <td>77.000000</td>\n",
       "      <td>86.000000</td>\n",
       "      <td>88.000000</td>\n",
       "      <td>0.0</td>\n",
       "      <td>100.000000</td>\n",
       "      <td>1.676760e+06</td>\n",
       "      <td>66.000000</td>\n",
       "      <td>78.000000</td>\n",
       "      <td>62.000000</td>\n",
       "      <td>79.000000</td>\n",
       "      <td>67.000000</td>\n",
       "    </tr>\n",
       "    <tr>\n",
       "      <th>2</th>\n",
       "      <td>62.000000</td>\n",
       "      <td>62.000000</td>\n",
       "      <td>65.000000</td>\n",
       "      <td>82.000000</td>\n",
       "      <td>6048.2</td>\n",
       "      <td>71.000000</td>\n",
       "      <td>44.000000</td>\n",
       "      <td>43.000000</td>\n",
       "      <td>68.000000</td>\n",
       "      <td>0.0</td>\n",
       "      <td>73.000000</td>\n",
       "      <td>7.275840e+03</td>\n",
       "      <td>65.000000</td>\n",
       "      <td>64.000000</td>\n",
       "      <td>90.000000</td>\n",
       "      <td>82.000000</td>\n",
       "      <td>66.000000</td>\n",
       "    </tr>\n",
       "    <tr>\n",
       "      <th>3</th>\n",
       "      <td>61.000000</td>\n",
       "      <td>62.000000</td>\n",
       "      <td>62.000000</td>\n",
       "      <td>61.000000</td>\n",
       "      <td>62.9</td>\n",
       "      <td>48.000000</td>\n",
       "      <td>70.000000</td>\n",
       "      <td>55.000000</td>\n",
       "      <td>50.000000</td>\n",
       "      <td>13.0</td>\n",
       "      <td>71.000000</td>\n",
       "      <td>5.837120e+03</td>\n",
       "      <td>64.000000</td>\n",
       "      <td>68.000000</td>\n",
       "      <td>52.000000</td>\n",
       "      <td>62.000000</td>\n",
       "      <td>62.000000</td>\n",
       "    </tr>\n",
       "    <tr>\n",
       "      <th>4</th>\n",
       "      <td>82.000000</td>\n",
       "      <td>62.000000</td>\n",
       "      <td>69.000000</td>\n",
       "      <td>66.000000</td>\n",
       "      <td>0.6</td>\n",
       "      <td>68.000000</td>\n",
       "      <td>68.000000</td>\n",
       "      <td>87.000000</td>\n",
       "      <td>89.000000</td>\n",
       "      <td>0.0</td>\n",
       "      <td>85.000000</td>\n",
       "      <td>1.116060e+03</td>\n",
       "      <td>64.000000</td>\n",
       "      <td>87.000000</td>\n",
       "      <td>55.000000</td>\n",
       "      <td>69.000000</td>\n",
       "      <td>68.000000</td>\n",
       "    </tr>\n",
       "    <tr>\n",
       "      <th>...</th>\n",
       "      <td>...</td>\n",
       "      <td>...</td>\n",
       "      <td>...</td>\n",
       "      <td>...</td>\n",
       "      <td>...</td>\n",
       "      <td>...</td>\n",
       "      <td>...</td>\n",
       "      <td>...</td>\n",
       "      <td>...</td>\n",
       "      <td>...</td>\n",
       "      <td>...</td>\n",
       "      <td>...</td>\n",
       "      <td>...</td>\n",
       "      <td>...</td>\n",
       "      <td>...</td>\n",
       "      <td>...</td>\n",
       "      <td>...</td>\n",
       "    </tr>\n",
       "    <tr>\n",
       "      <th>95</th>\n",
       "      <td>66.130035</td>\n",
       "      <td>67.876639</td>\n",
       "      <td>65.689118</td>\n",
       "      <td>69.976517</td>\n",
       "      <td>16.7</td>\n",
       "      <td>67.886190</td>\n",
       "      <td>72.802979</td>\n",
       "      <td>67.858612</td>\n",
       "      <td>67.833403</td>\n",
       "      <td>13.0</td>\n",
       "      <td>79.554705</td>\n",
       "      <td>7.720410e+03</td>\n",
       "      <td>62.493128</td>\n",
       "      <td>71.775844</td>\n",
       "      <td>64.805158</td>\n",
       "      <td>70.150586</td>\n",
       "      <td>63.011153</td>\n",
       "    </tr>\n",
       "    <tr>\n",
       "      <th>96</th>\n",
       "      <td>71.419302</td>\n",
       "      <td>69.657646</td>\n",
       "      <td>67.398855</td>\n",
       "      <td>68.816412</td>\n",
       "      <td>800.0</td>\n",
       "      <td>67.117347</td>\n",
       "      <td>77.448140</td>\n",
       "      <td>75.627754</td>\n",
       "      <td>69.973423</td>\n",
       "      <td>8.0</td>\n",
       "      <td>79.453299</td>\n",
       "      <td>8.336000e+04</td>\n",
       "      <td>64.031528</td>\n",
       "      <td>76.655959</td>\n",
       "      <td>64.400920</td>\n",
       "      <td>69.643842</td>\n",
       "      <td>63.364231</td>\n",
       "    </tr>\n",
       "    <tr>\n",
       "      <th>97</th>\n",
       "      <td>70.608997</td>\n",
       "      <td>69.664561</td>\n",
       "      <td>66.615888</td>\n",
       "      <td>75.680403</td>\n",
       "      <td>774.5</td>\n",
       "      <td>69.404772</td>\n",
       "      <td>76.338856</td>\n",
       "      <td>69.858487</td>\n",
       "      <td>71.357286</td>\n",
       "      <td>2.4</td>\n",
       "      <td>80.411351</td>\n",
       "      <td>6.118550e+03</td>\n",
       "      <td>63.493094</td>\n",
       "      <td>72.201452</td>\n",
       "      <td>73.244626</td>\n",
       "      <td>70.422228</td>\n",
       "      <td>63.292906</td>\n",
       "    </tr>\n",
       "    <tr>\n",
       "      <th>98</th>\n",
       "      <td>74.680543</td>\n",
       "      <td>72.098536</td>\n",
       "      <td>66.661905</td>\n",
       "      <td>79.446729</td>\n",
       "      <td>489.4</td>\n",
       "      <td>73.364194</td>\n",
       "      <td>72.929852</td>\n",
       "      <td>67.062761</td>\n",
       "      <td>68.113389</td>\n",
       "      <td>0.0</td>\n",
       "      <td>78.311734</td>\n",
       "      <td>1.874402e+04</td>\n",
       "      <td>62.022157</td>\n",
       "      <td>73.104389</td>\n",
       "      <td>76.365896</td>\n",
       "      <td>69.096859</td>\n",
       "      <td>63.750512</td>\n",
       "    </tr>\n",
       "    <tr>\n",
       "      <th>99</th>\n",
       "      <td>73.034900</td>\n",
       "      <td>72.929253</td>\n",
       "      <td>68.096965</td>\n",
       "      <td>69.682889</td>\n",
       "      <td>100.0</td>\n",
       "      <td>70.284875</td>\n",
       "      <td>70.157466</td>\n",
       "      <td>71.867097</td>\n",
       "      <td>67.497807</td>\n",
       "      <td>0.0</td>\n",
       "      <td>79.507717</td>\n",
       "      <td>6.250000e+03</td>\n",
       "      <td>63.137418</td>\n",
       "      <td>78.615083</td>\n",
       "      <td>65.682633</td>\n",
       "      <td>71.965373</td>\n",
       "      <td>64.179160</td>\n",
       "    </tr>\n",
       "  </tbody>\n",
       "</table>\n",
       "<p>100 rows × 17 columns</p>\n",
       "</div>"
      ],
      "text/plain": [
       "           0          1          2          3       4          5          6   \\\n",
       "0   61.000000  60.000000  62.000000  80.000000   220.0  71.000000  40.000000   \n",
       "1   66.000000  63.000000  69.000000  68.000000  4953.5  76.000000  77.000000   \n",
       "2   62.000000  62.000000  65.000000  82.000000  6048.2  71.000000  44.000000   \n",
       "3   61.000000  62.000000  62.000000  61.000000    62.9  48.000000  70.000000   \n",
       "4   82.000000  62.000000  69.000000  66.000000     0.6  68.000000  68.000000   \n",
       "..        ...        ...        ...        ...     ...        ...        ...   \n",
       "95  66.130035  67.876639  65.689118  69.976517    16.7  67.886190  72.802979   \n",
       "96  71.419302  69.657646  67.398855  68.816412   800.0  67.117347  77.448140   \n",
       "97  70.608997  69.664561  66.615888  75.680403   774.5  69.404772  76.338856   \n",
       "98  74.680543  72.098536  66.661905  79.446729   489.4  73.364194  72.929852   \n",
       "99  73.034900  72.929253  68.096965  69.682889   100.0  70.284875  70.157466   \n",
       "\n",
       "           7          8     9           10            11         12  \\\n",
       "0   42.000000  53.000000  13.0   71.000000  3.086600e+04  63.000000   \n",
       "1   86.000000  88.000000   0.0  100.000000  1.676760e+06  66.000000   \n",
       "2   43.000000  68.000000   0.0   73.000000  7.275840e+03  65.000000   \n",
       "3   55.000000  50.000000  13.0   71.000000  5.837120e+03  64.000000   \n",
       "4   87.000000  89.000000   0.0   85.000000  1.116060e+03  64.000000   \n",
       "..        ...        ...   ...         ...           ...        ...   \n",
       "95  67.858612  67.833403  13.0   79.554705  7.720410e+03  62.493128   \n",
       "96  75.627754  69.973423   8.0   79.453299  8.336000e+04  64.031528   \n",
       "97  69.858487  71.357286   2.4   80.411351  6.118550e+03  63.493094   \n",
       "98  67.062761  68.113389   0.0   78.311734  1.874402e+04  62.022157   \n",
       "99  71.867097  67.497807   0.0   79.507717  6.250000e+03  63.137418   \n",
       "\n",
       "           13         14         15         16  \n",
       "0   62.000000  80.000000  60.000000  60.000000  \n",
       "1   78.000000  62.000000  79.000000  67.000000  \n",
       "2   64.000000  90.000000  82.000000  66.000000  \n",
       "3   68.000000  52.000000  62.000000  62.000000  \n",
       "4   87.000000  55.000000  69.000000  68.000000  \n",
       "..        ...        ...        ...        ...  \n",
       "95  71.775844  64.805158  70.150586  63.011153  \n",
       "96  76.655959  64.400920  69.643842  63.364231  \n",
       "97  72.201452  73.244626  70.422228  63.292906  \n",
       "98  73.104389  76.365896  69.096859  63.750512  \n",
       "99  78.615083  65.682633  71.965373  64.179160  \n",
       "\n",
       "[100 rows x 17 columns]"
      ]
     },
     "execution_count": 126,
     "metadata": {},
     "output_type": "execute_result"
    }
   ],
   "source": [
    "import pandas as pd\n",
    "import numpy as np\n",
    "import math\n",
    "from numpy import array\n",
    "import matplotlib.pyplot as plt\n",
    "# 读取表格文件\n",
    "file_path = 'predictions100.xlsx'  # 替换为你的文件路径\n",
    "df = pd.read_excel(file_path, header=None)\n",
    "df"
   ]
  },
  {
   "cell_type": "code",
   "execution_count": 127,
   "metadata": {},
   "outputs": [],
   "source": [
    "data = df\n",
    "data = np.array(data)"
   ]
  },
  {
   "cell_type": "code",
   "execution_count": 128,
   "metadata": {},
   "outputs": [],
   "source": [
    "import numpy as np\n",
    "\n",
    "\n",
    "# 定义标准化函数\n",
    "def standardize_column(column, mode=\"max\"):\n",
    "    column = np.array(column, dtype=float)\n",
    "    if mode == \"max\":\n",
    "        return (column - column.min()) / (column.max() - column.min())\n",
    "    elif mode == \"min\":\n",
    "        return (column.max() - column) / (column.max() - column.min())\n",
    "    else:\n",
    "        raise ValueError(\"Mode must be 'max' or 'min'.\")\n",
    "\n",
    "# 定义计算熵的函数\n",
    "def calculate_entropy(column):\n",
    "    column = np.array(column, dtype=float)\n",
    "    probabilities = column / column.sum()\n",
    "    probabilities = probabilities[probabilities > 0]  # 避免 log(0)\n",
    "    return -np.sum(probabilities * np.log(probabilities))\n",
    "\n",
    "# 初始化标准化数据\n",
    "standardized_data = np.zeros_like(data)\n",
    "\n",
    "# 应用标准化列-wise\n",
    "for i in range(data.shape[1]):\n",
    "    if i == 4:  # 第五列（索引为4）：极小值\n",
    "        standardized_data[:, i] = standardize_column(data[:, i], mode=\"min\")\n",
    "    else:  # 其他列：极大值\n",
    "        standardized_data[:, i] = standardize_column(data[:, i], mode=\"max\")\n",
    "\n",
    "# 计算每列的熵值\n",
    "entropies = np.array([calculate_entropy(col) for col in standardized_data.T])\n",
    "\n",
    "# 归一化熵值使其总和为1\n",
    "weights = entropies / entropies.sum()\n",
    "\n",
    "# weights 即为每列的权重，形状为 (n_features,)"
   ]
  },
  {
   "cell_type": "code",
   "execution_count": 129,
   "metadata": {},
   "outputs": [
    {
     "data": {
      "text/plain": [
       "array([0.06294601, 0.06190906, 0.06263205, 0.06233453, 0.06330322,\n",
       "       0.06316696, 0.0629336 , 0.06258831, 0.06241387, 0.05405816,\n",
       "       0.06167129, 0.00692863, 0.06316386, 0.06225412, 0.06267545,\n",
       "       0.06248615, 0.06253473])"
      ]
     },
     "execution_count": 129,
     "metadata": {},
     "output_type": "execute_result"
    }
   ],
   "source": [
    "weights"
   ]
  },
  {
   "cell_type": "code",
   "execution_count": 130,
   "metadata": {},
   "outputs": [],
   "source": [
    "def standardize_column(row, mode=\"max\"):\n",
    "    row = np.array(row, dtype=float)\n",
    "    if mode == \"max\":\n",
    "        return (row - row.min()) / (row.max() - row.min())\n",
    "    elif mode == \"min\":\n",
    "        return (row.max() - row) / (row.max() - row.min())\n",
    "    else:\n",
    "        raise ValueError(\"Mode must be 'max' or 'min'.\")"
   ]
  },
  {
   "cell_type": "code",
   "execution_count": 131,
   "metadata": {},
   "outputs": [],
   "source": [
    "def calculate_entropy(row):\n",
    "    row = np.array(row, dtype=float)\n",
    "    probabilities = row / row.sum()\n",
    "    probabilities = probabilities[probabilities > 0]  # Avoid log(0)\n",
    "    return -np.sum(probabilities * np.log(probabilities))"
   ]
  },
  {
   "cell_type": "code",
   "execution_count": 138,
   "metadata": {},
   "outputs": [],
   "source": [
    "# Transpose the data to make rows represent features转置数据\n",
    "data_transposed = np.array(data).T\n",
    "\n",
    "# Initialize standardized data初始化标准化数据\n",
    "standardized_data_by_row = np.zeros_like(data_transposed)\n",
    "\n",
    "# Apply standardization row-wise逐行应用标准化\n",
    "for i, row in enumerate(data_transposed):\n",
    "    if i == 4:  # Fifth row (now feature 5): minimize\n",
    "        standardized_data_by_row[i] = standardize_column(row, mode=\"min\")\n",
    "    else:  # Other rows: maximize\n",
    "        standardized_data_by_row[i] = standardize_column(row, mode=\"max\")\n",
    "\n",
    "# Recalculate entropy for each row (now features)重新计算每行（现在是特征）的熵值\n",
    "rechecked_entropies_by_row = np.array([calculate_entropy(row) for row in standardized_data_by_row])\n",
    "\n",
    "# Normalize entropies so they sum to 1归一化熵值使其总和为1\n",
    "normalized_entropies_by_row = rechecked_entropies_by_row / rechecked_entropies_by_row.sum()"
   ]
  },
  {
   "cell_type": "code",
   "execution_count": 139,
   "metadata": {},
   "outputs": [
    {
     "data": {
      "text/plain": [
       "array([4.56918979, 4.49391884, 4.5463998 , 4.52480306, 4.59511975,\n",
       "       4.5852284 , 4.56828928, 4.54322461, 4.53056242, 3.92402916,\n",
       "       4.47665937, 0.50294222, 4.5850035 , 4.51896657, 4.54954991,\n",
       "       4.53580899, 4.53933514])"
      ]
     },
     "execution_count": 139,
     "metadata": {},
     "output_type": "execute_result"
    }
   ],
   "source": [
    "rechecked_entropies_by_row"
   ]
  },
  {
   "cell_type": "code",
   "execution_count": 140,
   "metadata": {},
   "outputs": [
    {
     "data": {
      "text/plain": [
       "array([0.06294601, 0.06190906, 0.06263205, 0.06233453, 0.06330322,\n",
       "       0.06316696, 0.0629336 , 0.06258831, 0.06241387, 0.05405816,\n",
       "       0.06167129, 0.00692863, 0.06316386, 0.06225412, 0.06267545,\n",
       "       0.06248615, 0.06253473])"
      ]
     },
     "execution_count": 140,
     "metadata": {},
     "output_type": "execute_result"
    }
   ],
   "source": [
    "normalized_entropies_by_row"
   ]
  }
 ],
 "metadata": {
  "colab": {
   "authorship_tag": "ABX9TyOb5GMDXodB2IBPjrMFD0Z6",
   "provenance": []
  },
  "kernelspec": {
   "display_name": "Python 3",
   "name": "python3"
  },
  "language_info": {
   "codemirror_mode": {
    "name": "ipython",
    "version": 3
   },
   "file_extension": ".py",
   "mimetype": "text/x-python",
   "name": "python",
   "nbconvert_exporter": "python",
   "pygments_lexer": "ipython3",
   "version": "3.13.2"
  }
 },
 "nbformat": 4,
 "nbformat_minor": 0
}
